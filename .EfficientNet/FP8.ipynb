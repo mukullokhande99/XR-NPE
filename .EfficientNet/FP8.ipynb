{
 "cells": [
  {
   "cell_type": "code",
   "execution_count": 1,
   "id": "a2a497a4-203a-4e88-86e0-835d29736ac1",
   "metadata": {},
   "outputs": [
    {
     "name": "stdout",
     "output_type": "stream",
     "text": [
      "Collecting efficientnet-pytorch\n",
      "  Downloading efficientnet_pytorch-0.7.1.tar.gz (21 kB)\n",
      "  Preparing metadata (setup.py) ... \u001b[?25ldone\n",
      "\u001b[?25hRequirement already satisfied: torch in /home/tejas/miniconda3/envs/pilotnet-torch/lib/python3.9/site-packages (from efficientnet-pytorch) (2.2.2+cu118)\n",
      "Requirement already satisfied: filelock in /home/tejas/miniconda3/envs/pilotnet-torch/lib/python3.9/site-packages (from torch->efficientnet-pytorch) (3.13.1)\n",
      "Requirement already satisfied: typing-extensions>=4.8.0 in /home/tejas/miniconda3/envs/pilotnet-torch/lib/python3.9/site-packages (from torch->efficientnet-pytorch) (4.12.2)\n",
      "Requirement already satisfied: sympy in /home/tejas/miniconda3/envs/pilotnet-torch/lib/python3.9/site-packages (from torch->efficientnet-pytorch) (1.13.1)\n",
      "Requirement already satisfied: networkx in /home/tejas/miniconda3/envs/pilotnet-torch/lib/python3.9/site-packages (from torch->efficientnet-pytorch) (3.2.1)\n",
      "Requirement already satisfied: jinja2 in /home/tejas/miniconda3/envs/pilotnet-torch/lib/python3.9/site-packages (from torch->efficientnet-pytorch) (3.1.4)\n",
      "Requirement already satisfied: fsspec in /home/tejas/miniconda3/envs/pilotnet-torch/lib/python3.9/site-packages (from torch->efficientnet-pytorch) (2024.6.1)\n",
      "Requirement already satisfied: nvidia-cuda-nvrtc-cu11==11.8.89 in /home/tejas/miniconda3/envs/pilotnet-torch/lib/python3.9/site-packages (from torch->efficientnet-pytorch) (11.8.89)\n",
      "Requirement already satisfied: nvidia-cuda-runtime-cu11==11.8.89 in /home/tejas/miniconda3/envs/pilotnet-torch/lib/python3.9/site-packages (from torch->efficientnet-pytorch) (11.8.89)\n",
      "Requirement already satisfied: nvidia-cuda-cupti-cu11==11.8.87 in /home/tejas/miniconda3/envs/pilotnet-torch/lib/python3.9/site-packages (from torch->efficientnet-pytorch) (11.8.87)\n",
      "Requirement already satisfied: nvidia-cudnn-cu11==8.7.0.84 in /home/tejas/miniconda3/envs/pilotnet-torch/lib/python3.9/site-packages (from torch->efficientnet-pytorch) (8.7.0.84)\n",
      "Requirement already satisfied: nvidia-cublas-cu11==11.11.3.6 in /home/tejas/miniconda3/envs/pilotnet-torch/lib/python3.9/site-packages (from torch->efficientnet-pytorch) (11.11.3.6)\n",
      "Requirement already satisfied: nvidia-cufft-cu11==10.9.0.58 in /home/tejas/miniconda3/envs/pilotnet-torch/lib/python3.9/site-packages (from torch->efficientnet-pytorch) (10.9.0.58)\n",
      "Requirement already satisfied: nvidia-curand-cu11==10.3.0.86 in /home/tejas/miniconda3/envs/pilotnet-torch/lib/python3.9/site-packages (from torch->efficientnet-pytorch) (10.3.0.86)\n",
      "Requirement already satisfied: nvidia-cusolver-cu11==11.4.1.48 in /home/tejas/miniconda3/envs/pilotnet-torch/lib/python3.9/site-packages (from torch->efficientnet-pytorch) (11.4.1.48)\n",
      "Requirement already satisfied: nvidia-cusparse-cu11==11.7.5.86 in /home/tejas/miniconda3/envs/pilotnet-torch/lib/python3.9/site-packages (from torch->efficientnet-pytorch) (11.7.5.86)\n",
      "Requirement already satisfied: nvidia-nccl-cu11==2.19.3 in /home/tejas/miniconda3/envs/pilotnet-torch/lib/python3.9/site-packages (from torch->efficientnet-pytorch) (2.19.3)\n",
      "Requirement already satisfied: nvidia-nvtx-cu11==11.8.86 in /home/tejas/miniconda3/envs/pilotnet-torch/lib/python3.9/site-packages (from torch->efficientnet-pytorch) (11.8.86)\n",
      "Requirement already satisfied: triton==2.2.0 in /home/tejas/miniconda3/envs/pilotnet-torch/lib/python3.9/site-packages (from torch->efficientnet-pytorch) (2.2.0)\n",
      "Requirement already satisfied: MarkupSafe>=2.0 in /home/tejas/miniconda3/envs/pilotnet-torch/lib/python3.9/site-packages (from jinja2->torch->efficientnet-pytorch) (2.1.5)\n",
      "Requirement already satisfied: mpmath<1.4,>=1.1.0 in /home/tejas/miniconda3/envs/pilotnet-torch/lib/python3.9/site-packages (from sympy->torch->efficientnet-pytorch) (1.3.0)\n",
      "Building wheels for collected packages: efficientnet-pytorch\n",
      "\u001b[33m  DEPRECATION: Building 'efficientnet-pytorch' using the legacy setup.py bdist_wheel mechanism, which will be removed in a future version. pip 25.3 will enforce this behaviour change. A possible replacement is to use the standardized build interface by setting the `--use-pep517` option, (possibly combined with `--no-build-isolation`), or adding a `pyproject.toml` file to the source tree of 'efficientnet-pytorch'. Discussion can be found at https://github.com/pypa/pip/issues/6334\u001b[0m\u001b[33m\n",
      "\u001b[0m  Building wheel for efficientnet-pytorch (setup.py) ... \u001b[?25ldone\n",
      "\u001b[?25h  Created wheel for efficientnet-pytorch: filename=efficientnet_pytorch-0.7.1-py3-none-any.whl size=16477 sha256=765ca61a4f74d71bbcac0330eb6caf38b0a61094bc8a9b5e7907e8c6280eb061\n",
      "  Stored in directory: /home/tejas/.cache/pip/wheels/29/16/24/752e89d88d333af39a288421e64d613b5f652918e39ef1f8e3\n",
      "Successfully built efficientnet-pytorch\n",
      "Installing collected packages: efficientnet-pytorch\n",
      "Successfully installed efficientnet-pytorch-0.7.1\n",
      "\n",
      "\u001b[1m[\u001b[0m\u001b[34;49mnotice\u001b[0m\u001b[1;39;49m]\u001b[0m\u001b[39;49m A new release of pip is available: \u001b[0m\u001b[31;49m25.1.1\u001b[0m\u001b[39;49m -> \u001b[0m\u001b[32;49m25.2\u001b[0m\n",
      "\u001b[1m[\u001b[0m\u001b[34;49mnotice\u001b[0m\u001b[1;39;49m]\u001b[0m\u001b[39;49m To update, run: \u001b[0m\u001b[32;49mpip install --upgrade pip\u001b[0m\n",
      "Collecting pytorch-quantization\n",
      "  Downloading pytorch-quantization-2.2.1.tar.gz (6.8 kB)\n",
      "  Preparing metadata (setup.py) ... \u001b[?25lerror\n",
      "  \u001b[1;31merror\u001b[0m: \u001b[1msubprocess-exited-with-error\u001b[0m\n",
      "  \n",
      "  \u001b[31m×\u001b[0m \u001b[32mpython setup.py egg_info\u001b[0m did not run successfully.\n",
      "  \u001b[31m│\u001b[0m exit code: \u001b[1;36m1\u001b[0m\n",
      "  \u001b[31m╰─>\u001b[0m \u001b[31m[16 lines of output]\u001b[0m\n",
      "  \u001b[31m   \u001b[0m Traceback (most recent call last):\n",
      "  \u001b[31m   \u001b[0m   File \"<string>\", line 2, in <module>\n",
      "  \u001b[31m   \u001b[0m   File \"<pip-setuptools-caller>\", line 35, in <module>\n",
      "  \u001b[31m   \u001b[0m   File \"/tmp/pip-install-vbbwe381/pytorch-quantization_829e3f1c25144c77ae3a7fd54a4e1c81/setup.py\", line 137, in <module>\n",
      "  \u001b[31m   \u001b[0m     raise RuntimeError(open(\"ERROR.txt\", \"r\").read())\n",
      "  \u001b[31m   \u001b[0m RuntimeError:\n",
      "  \u001b[31m   \u001b[0m ###########################################################################################\n",
      "  \u001b[31m   \u001b[0m The package you are trying to install is only a placeholder project on PyPI.org repository.\n",
      "  \u001b[31m   \u001b[0m This package is hosted on NVIDIA Python Package Index.\n",
      "  \u001b[31m   \u001b[0m \n",
      "  \u001b[31m   \u001b[0m This package can be installed as:\n",
      "  \u001b[31m   \u001b[0m ```\n",
      "  \u001b[31m   \u001b[0m $ pip install --no-cache-dir --extra-index-url https://pypi.nvidia.com pytorch-quantization\n",
      "  \u001b[31m   \u001b[0m ```\n",
      "  \u001b[31m   \u001b[0m ###########################################################################################\n",
      "  \u001b[31m   \u001b[0m \n",
      "  \u001b[31m   \u001b[0m \u001b[31m[end of output]\u001b[0m\n",
      "  \n",
      "  \u001b[1;35mnote\u001b[0m: This error originates from a subprocess, and is likely not a problem with pip.\n",
      "\n",
      "\u001b[1m[\u001b[0m\u001b[34;49mnotice\u001b[0m\u001b[1;39;49m]\u001b[0m\u001b[39;49m A new release of pip is available: \u001b[0m\u001b[31;49m25.1.1\u001b[0m\u001b[39;49m -> \u001b[0m\u001b[32;49m25.2\u001b[0m\n",
      "\u001b[1m[\u001b[0m\u001b[34;49mnotice\u001b[0m\u001b[1;39;49m]\u001b[0m\u001b[39;49m To update, run: \u001b[0m\u001b[32;49mpip install --upgrade pip\u001b[0m\n",
      "\u001b[1;31merror\u001b[0m: \u001b[1mmetadata-generation-failed\u001b[0m\n",
      "\n",
      "\u001b[31m×\u001b[0m Encountered error while generating package metadata.\n",
      "\u001b[31m╰─>\u001b[0m See above for output.\n",
      "\n",
      "\u001b[1;35mnote\u001b[0m: This is an issue with the package mentioned above, not pip.\n",
      "\u001b[1;36mhint\u001b[0m: See above for details.\n",
      "\u001b[?25hCollecting tensorrt\n",
      "  Downloading tensorrt-10.13.2.6.tar.gz (40 kB)\n",
      "  Preparing metadata (setup.py) ... \u001b[?25ldone\n",
      "\u001b[?25hCollecting tensorrt_cu13==10.13.2.6 (from tensorrt)\n",
      "  Downloading tensorrt_cu13-10.13.2.6.tar.gz (18 kB)\n",
      "  Preparing metadata (setup.py) ... \u001b[?25ldone\n",
      "\u001b[?25hCollecting tensorrt_cu13_libs==10.13.2.6 (from tensorrt_cu13==10.13.2.6->tensorrt)\n",
      "  Downloading tensorrt_cu13_libs-10.13.2.6.tar.gz (704 bytes)\n",
      "  Installing build dependencies ... \u001b[?25ldone\n",
      "\u001b[?25h  Getting requirements to build wheel ... \u001b[?25ldone\n",
      "\u001b[?25h  Preparing metadata (pyproject.toml) ... \u001b[?25ldone\n",
      "\u001b[?25hCollecting tensorrt_cu13_bindings==10.13.2.6 (from tensorrt_cu13==10.13.2.6->tensorrt)\n",
      "  Downloading tensorrt_cu13_bindings-10.13.2.6-cp39-none-manylinux_2_28_x86_64.whl.metadata (606 bytes)\n",
      "Collecting nvidia-cuda-runtime-cu13 (from tensorrt_cu13_libs==10.13.2.6->tensorrt_cu13==10.13.2.6->tensorrt)\n",
      "  Downloading nvidia_cuda_runtime_cu13-0.0.0a0-py2.py3-none-any.whl.metadata (225 bytes)\n",
      "Downloading tensorrt_cu13_bindings-10.13.2.6-cp39-none-manylinux_2_28_x86_64.whl (1.2 MB)\n",
      "\u001b[2K   \u001b[90m━━━━━━━━━━━━━━━━━━━━━━━━━━━━━━━━━━━━━━━━\u001b[0m \u001b[32m1.2/1.2 MB\u001b[0m \u001b[31m8.7 MB/s\u001b[0m eta \u001b[36m0:00:00\u001b[0m\n",
      "\u001b[?25hDownloading nvidia_cuda_runtime_cu13-0.0.0a0-py2.py3-none-any.whl (1.2 kB)\n",
      "Building wheels for collected packages: tensorrt, tensorrt_cu13, tensorrt_cu13_libs\n",
      "\u001b[33m  DEPRECATION: Building 'tensorrt' using the legacy setup.py bdist_wheel mechanism, which will be removed in a future version. pip 25.3 will enforce this behaviour change. A possible replacement is to use the standardized build interface by setting the `--use-pep517` option, (possibly combined with `--no-build-isolation`), or adding a `pyproject.toml` file to the source tree of 'tensorrt'. Discussion can be found at https://github.com/pypa/pip/issues/6334\u001b[0m\u001b[33m\n",
      "\u001b[0m  Building wheel for tensorrt (setup.py) ... \u001b[?25ldone\n",
      "\u001b[?25h  Created wheel for tensorrt: filename=tensorrt-10.13.2.6-py2.py3-none-any.whl size=46526 sha256=f4a3660ba6a2ba612acd0609e53e524880bf36bf3bcb2b28602110eadb646767\n",
      "  Stored in directory: /home/tejas/.cache/pip/wheels/7c/43/af/1bd62b72460692f0b02f3159274e016895b7e96d5525e80f1a\n",
      "\u001b[33m  DEPRECATION: Building 'tensorrt_cu13' using the legacy setup.py bdist_wheel mechanism, which will be removed in a future version. pip 25.3 will enforce this behaviour change. A possible replacement is to use the standardized build interface by setting the `--use-pep517` option, (possibly combined with `--no-build-isolation`), or adding a `pyproject.toml` file to the source tree of 'tensorrt_cu13'. Discussion can be found at https://github.com/pypa/pip/issues/6334\u001b[0m\u001b[33m\n",
      "\u001b[0m  Building wheel for tensorrt_cu13 (setup.py) ... \u001b[?25ldone\n",
      "\u001b[?25h  Created wheel for tensorrt_cu13: filename=tensorrt_cu13-10.13.2.6-py2.py3-none-any.whl size=17541 sha256=90c0cd6c1910f57f7cbb391e984f7097537a2d7f29566e65afc4e34df3a10726\n",
      "  Stored in directory: /home/tejas/.cache/pip/wheels/30/10/db/741acd7250b543e12dbbfac5cf313b599735bc4e1eebe45fb5\n",
      "  Building wheel for tensorrt_cu13_libs (pyproject.toml) ... \u001b[?25ldone\n",
      "\u001b[?25h  Created wheel for tensorrt_cu13_libs: filename=tensorrt_cu13_libs-10.13.2.6-py2.py3-none-manylinux_2_28_x86_64.whl size=2740427176 sha256=044468b0705728c0c8f0e95325ba881ff3e23bd2eebce0b1e628953ff90bbb5f\n",
      "  Stored in directory: /home/tejas/.cache/pip/wheels/4e/56/7d/97835f3b04011f142baf99154b615d18d4f5f1fd06dbb9e9fe\n",
      "Successfully built tensorrt tensorrt_cu13 tensorrt_cu13_libs\n",
      "Installing collected packages: tensorrt_cu13_bindings, nvidia-cuda-runtime-cu13, tensorrt_cu13_libs, tensorrt_cu13, tensorrt\n",
      "\u001b[2K   \u001b[90m━━━━━━━━━━━━━━━━━━━━━━━━━━━━━━━━━━━━━━━━\u001b[0m \u001b[32m5/5\u001b[0m [tensorrt]2/5\u001b[0m [tensorrt_cu13_libs]\n",
      "\u001b[1A\u001b[2KSuccessfully installed nvidia-cuda-runtime-cu13-0.0.0a0 tensorrt-10.13.2.6 tensorrt_cu13-10.13.2.6 tensorrt_cu13_bindings-10.13.2.6 tensorrt_cu13_libs-10.13.2.6\n",
      "\n",
      "\u001b[1m[\u001b[0m\u001b[34;49mnotice\u001b[0m\u001b[1;39;49m]\u001b[0m\u001b[39;49m A new release of pip is available: \u001b[0m\u001b[31;49m25.1.1\u001b[0m\u001b[39;49m -> \u001b[0m\u001b[32;49m25.2\u001b[0m\n",
      "\u001b[1m[\u001b[0m\u001b[34;49mnotice\u001b[0m\u001b[1;39;49m]\u001b[0m\u001b[39;49m To update, run: \u001b[0m\u001b[32;49mpip install --upgrade pip\u001b[0m\n",
      "Collecting onnx\n",
      "  Downloading onnx-1.18.0-cp39-cp39-manylinux_2_17_x86_64.manylinux2014_x86_64.whl.metadata (6.9 kB)\n",
      "Requirement already satisfied: numpy>=1.22 in /home/tejas/miniconda3/envs/pilotnet-torch/lib/python3.9/site-packages (from onnx) (1.26.4)\n",
      "Requirement already satisfied: protobuf>=4.25.1 in /home/tejas/miniconda3/envs/pilotnet-torch/lib/python3.9/site-packages (from onnx) (6.31.1)\n",
      "Requirement already satisfied: typing_extensions>=4.7.1 in /home/tejas/miniconda3/envs/pilotnet-torch/lib/python3.9/site-packages (from onnx) (4.12.2)\n",
      "Downloading onnx-1.18.0-cp39-cp39-manylinux_2_17_x86_64.manylinux2014_x86_64.whl (17.6 MB)\n",
      "\u001b[2K   \u001b[90m━━━━━━━━━━━━━━━━━━━━━━━━━━━━━━━━━━━━━━━━\u001b[0m \u001b[32m17.6/17.6 MB\u001b[0m \u001b[31m17.4 MB/s\u001b[0m eta \u001b[36m0:00:00\u001b[0m00:01\u001b[0m00:01\u001b[0m\n",
      "\u001b[?25hInstalling collected packages: onnx\n",
      "Successfully installed onnx-1.18.0\n",
      "\n",
      "\u001b[1m[\u001b[0m\u001b[34;49mnotice\u001b[0m\u001b[1;39;49m]\u001b[0m\u001b[39;49m A new release of pip is available: \u001b[0m\u001b[31;49m25.1.1\u001b[0m\u001b[39;49m -> \u001b[0m\u001b[32;49m25.2\u001b[0m\n",
      "\u001b[1m[\u001b[0m\u001b[34;49mnotice\u001b[0m\u001b[1;39;49m]\u001b[0m\u001b[39;49m To update, run: \u001b[0m\u001b[32;49mpip install --upgrade pip\u001b[0m\n",
      "Requirement already satisfied: timm in /home/tejas/miniconda3/envs/pilotnet-torch/lib/python3.9/site-packages (1.0.19)\n",
      "Requirement already satisfied: torch in /home/tejas/miniconda3/envs/pilotnet-torch/lib/python3.9/site-packages (from timm) (2.2.2+cu118)\n",
      "Requirement already satisfied: torchvision in /home/tejas/miniconda3/envs/pilotnet-torch/lib/python3.9/site-packages (from timm) (0.17.2+cu118)\n",
      "Requirement already satisfied: pyyaml in /home/tejas/miniconda3/envs/pilotnet-torch/lib/python3.9/site-packages (from timm) (6.0.2)\n",
      "Requirement already satisfied: huggingface_hub in /home/tejas/miniconda3/envs/pilotnet-torch/lib/python3.9/site-packages (from timm) (0.34.2)\n",
      "Requirement already satisfied: safetensors in /home/tejas/miniconda3/envs/pilotnet-torch/lib/python3.9/site-packages (from timm) (0.5.3)\n",
      "Requirement already satisfied: filelock in /home/tejas/miniconda3/envs/pilotnet-torch/lib/python3.9/site-packages (from huggingface_hub->timm) (3.13.1)\n",
      "Requirement already satisfied: fsspec>=2023.5.0 in /home/tejas/miniconda3/envs/pilotnet-torch/lib/python3.9/site-packages (from huggingface_hub->timm) (2024.6.1)\n",
      "Requirement already satisfied: packaging>=20.9 in /home/tejas/miniconda3/envs/pilotnet-torch/lib/python3.9/site-packages (from huggingface_hub->timm) (25.0)\n",
      "Requirement already satisfied: requests in /home/tejas/miniconda3/envs/pilotnet-torch/lib/python3.9/site-packages (from huggingface_hub->timm) (2.32.4)\n",
      "Requirement already satisfied: tqdm>=4.42.1 in /home/tejas/miniconda3/envs/pilotnet-torch/lib/python3.9/site-packages (from huggingface_hub->timm) (4.67.1)\n",
      "Requirement already satisfied: typing-extensions>=3.7.4.3 in /home/tejas/miniconda3/envs/pilotnet-torch/lib/python3.9/site-packages (from huggingface_hub->timm) (4.12.2)\n",
      "Requirement already satisfied: hf-xet<2.0.0,>=1.1.3 in /home/tejas/miniconda3/envs/pilotnet-torch/lib/python3.9/site-packages (from huggingface_hub->timm) (1.1.5)\n",
      "Requirement already satisfied: charset_normalizer<4,>=2 in /home/tejas/miniconda3/envs/pilotnet-torch/lib/python3.9/site-packages (from requests->huggingface_hub->timm) (2.1.1)\n",
      "Requirement already satisfied: idna<4,>=2.5 in /home/tejas/miniconda3/envs/pilotnet-torch/lib/python3.9/site-packages (from requests->huggingface_hub->timm) (3.4)\n",
      "Requirement already satisfied: urllib3<3,>=1.21.1 in /home/tejas/miniconda3/envs/pilotnet-torch/lib/python3.9/site-packages (from requests->huggingface_hub->timm) (1.26.13)\n",
      "Requirement already satisfied: certifi>=2017.4.17 in /home/tejas/miniconda3/envs/pilotnet-torch/lib/python3.9/site-packages (from requests->huggingface_hub->timm) (2022.12.7)\n",
      "Requirement already satisfied: sympy in /home/tejas/miniconda3/envs/pilotnet-torch/lib/python3.9/site-packages (from torch->timm) (1.13.1)\n",
      "Requirement already satisfied: networkx in /home/tejas/miniconda3/envs/pilotnet-torch/lib/python3.9/site-packages (from torch->timm) (3.2.1)\n",
      "Requirement already satisfied: jinja2 in /home/tejas/miniconda3/envs/pilotnet-torch/lib/python3.9/site-packages (from torch->timm) (3.1.4)\n",
      "Requirement already satisfied: nvidia-cuda-nvrtc-cu11==11.8.89 in /home/tejas/miniconda3/envs/pilotnet-torch/lib/python3.9/site-packages (from torch->timm) (11.8.89)\n",
      "Requirement already satisfied: nvidia-cuda-runtime-cu11==11.8.89 in /home/tejas/miniconda3/envs/pilotnet-torch/lib/python3.9/site-packages (from torch->timm) (11.8.89)\n",
      "Requirement already satisfied: nvidia-cuda-cupti-cu11==11.8.87 in /home/tejas/miniconda3/envs/pilotnet-torch/lib/python3.9/site-packages (from torch->timm) (11.8.87)\n",
      "Requirement already satisfied: nvidia-cudnn-cu11==8.7.0.84 in /home/tejas/miniconda3/envs/pilotnet-torch/lib/python3.9/site-packages (from torch->timm) (8.7.0.84)\n",
      "Requirement already satisfied: nvidia-cublas-cu11==11.11.3.6 in /home/tejas/miniconda3/envs/pilotnet-torch/lib/python3.9/site-packages (from torch->timm) (11.11.3.6)\n",
      "Requirement already satisfied: nvidia-cufft-cu11==10.9.0.58 in /home/tejas/miniconda3/envs/pilotnet-torch/lib/python3.9/site-packages (from torch->timm) (10.9.0.58)\n",
      "Requirement already satisfied: nvidia-curand-cu11==10.3.0.86 in /home/tejas/miniconda3/envs/pilotnet-torch/lib/python3.9/site-packages (from torch->timm) (10.3.0.86)\n",
      "Requirement already satisfied: nvidia-cusolver-cu11==11.4.1.48 in /home/tejas/miniconda3/envs/pilotnet-torch/lib/python3.9/site-packages (from torch->timm) (11.4.1.48)\n",
      "Requirement already satisfied: nvidia-cusparse-cu11==11.7.5.86 in /home/tejas/miniconda3/envs/pilotnet-torch/lib/python3.9/site-packages (from torch->timm) (11.7.5.86)\n",
      "Requirement already satisfied: nvidia-nccl-cu11==2.19.3 in /home/tejas/miniconda3/envs/pilotnet-torch/lib/python3.9/site-packages (from torch->timm) (2.19.3)\n",
      "Requirement already satisfied: nvidia-nvtx-cu11==11.8.86 in /home/tejas/miniconda3/envs/pilotnet-torch/lib/python3.9/site-packages (from torch->timm) (11.8.86)\n",
      "Requirement already satisfied: triton==2.2.0 in /home/tejas/miniconda3/envs/pilotnet-torch/lib/python3.9/site-packages (from torch->timm) (2.2.0)\n",
      "Requirement already satisfied: MarkupSafe>=2.0 in /home/tejas/miniconda3/envs/pilotnet-torch/lib/python3.9/site-packages (from jinja2->torch->timm) (2.1.5)\n",
      "Requirement already satisfied: mpmath<1.4,>=1.1.0 in /home/tejas/miniconda3/envs/pilotnet-torch/lib/python3.9/site-packages (from sympy->torch->timm) (1.3.0)\n",
      "Requirement already satisfied: numpy in /home/tejas/miniconda3/envs/pilotnet-torch/lib/python3.9/site-packages (from torchvision->timm) (1.26.4)\n",
      "Requirement already satisfied: pillow!=8.3.*,>=5.3.0 in /home/tejas/miniconda3/envs/pilotnet-torch/lib/python3.9/site-packages (from torchvision->timm) (11.3.0)\n",
      "\n",
      "\u001b[1m[\u001b[0m\u001b[34;49mnotice\u001b[0m\u001b[1;39;49m]\u001b[0m\u001b[39;49m A new release of pip is available: \u001b[0m\u001b[31;49m25.1.1\u001b[0m\u001b[39;49m -> \u001b[0m\u001b[32;49m25.2\u001b[0m\n",
      "\u001b[1m[\u001b[0m\u001b[34;49mnotice\u001b[0m\u001b[1;39;49m]\u001b[0m\u001b[39;49m To update, run: \u001b[0m\u001b[32;49mpip install --upgrade pip\u001b[0m\n"
     ]
    }
   ],
   "source": [
    "!pip install efficientnet-pytorch\n",
    "!pip install pytorch-quantization\n",
    "!pip install tensorrt\n",
    "!pip install onnx\n",
    "!pip install timm"
   ]
  },
  {
   "cell_type": "code",
   "execution_count": 1,
   "id": "fe7e86c5-0ea0-4370-be47-6c5587c40116",
   "metadata": {},
   "outputs": [
    {
     "name": "stdout",
     "output_type": "stream",
     "text": [
      "Using device: cuda\n"
     ]
    }
   ],
   "source": [
    "import torch\n",
    "import torch.nn as nn\n",
    "import torch.optim as optim\n",
    "import torch.nn.functional as F\n",
    "from torch.quantization import QConfig, default_qconfig\n",
    "from torch.quantization.quantize_fx import prepare_qat_fx, convert_fx\n",
    "import torchvision.transforms as transforms\n",
    "from efficientnet_pytorch import EfficientNet\n",
    "import numpy as np\n",
    "import matplotlib.pyplot as plt\n",
    "from tqdm import tqdm\n",
    "import warnings\n",
    "warnings.filterwarnings('ignore')\n",
    "\n",
    "# Check for GPU availability\n",
    "device = torch.device('cuda' if torch.cuda.is_available() else 'cpu')\n",
    "print(f\"Using device: {device}\")"
   ]
  },
  {
   "cell_type": "code",
   "execution_count": null,
   "id": "e6b34c8a-a8ef-443a-a1a6-97c2c8ab4443",
   "metadata": {},
   "outputs": [
    {
     "name": "stdout",
     "output_type": "stream",
     "text": [
      "Choose training option:\n",
      "1. Train FP8 E4M3 only\n",
      "2. Train FP8 E5M2 only\n",
      "3. Compare both FP8 formats\n"
     ]
    },
    {
     "name": "stdin",
     "output_type": "stream",
     "text": [
      "Enter choice (1-3):  2\n"
     ]
    },
    {
     "name": "stdout",
     "output_type": "stream",
     "text": [
      "Starting FP8 EfficientNet Quantization-Aware Training (E5M2 format)\n",
      "Preparing data...\n",
      "Files already downloaded and verified\n",
      "Files already downloaded and verified\n",
      "Creating FP8 quantized EfficientNet model (E5M2)...\n",
      "Loaded pretrained weights for efficientnet-b0\n",
      "Replaced 1 layers with FP8 quantized versions\n",
      "Starting training...\n",
      "\n",
      "Epoch 1/30\n"
     ]
    },
    {
     "name": "stderr",
     "output_type": "stream",
     "text": [
      "Training:   0%|                                                                      | 1/1563 [00:02<1:11:10,  2.73s/it]"
     ]
    },
    {
     "name": "stdout",
     "output_type": "stream",
     "text": [
      "Batch 0, Loss: 2.312988\n"
     ]
    },
    {
     "name": "stderr",
     "output_type": "stream",
     "text": [
      "Training:   6%|████▌                                                                 | 101/1563 [00:30<06:52,  3.54it/s]"
     ]
    },
    {
     "name": "stdout",
     "output_type": "stream",
     "text": [
      "Batch 100, Loss: 2.267657\n"
     ]
    },
    {
     "name": "stderr",
     "output_type": "stream",
     "text": [
      "Training:  13%|█████████                                                             | 201/1563 [00:59<06:22,  3.56it/s]"
     ]
    },
    {
     "name": "stdout",
     "output_type": "stream",
     "text": [
      "Batch 200, Loss: 2.338567\n"
     ]
    },
    {
     "name": "stderr",
     "output_type": "stream",
     "text": [
      "Training:  19%|█████████████▍                                                        | 301/1563 [01:27<05:55,  3.55it/s]"
     ]
    },
    {
     "name": "stdout",
     "output_type": "stream",
     "text": [
      "Batch 300, Loss: 2.332113\n"
     ]
    },
    {
     "name": "stderr",
     "output_type": "stream",
     "text": [
      "Training:  26%|█████████████████▉                                                    | 401/1563 [01:55<05:26,  3.55it/s]"
     ]
    },
    {
     "name": "stdout",
     "output_type": "stream",
     "text": [
      "Batch 400, Loss: 2.274946\n"
     ]
    },
    {
     "name": "stderr",
     "output_type": "stream",
     "text": [
      "Training:  32%|██████████████████████▍                                               | 501/1563 [02:23<04:53,  3.61it/s]"
     ]
    },
    {
     "name": "stdout",
     "output_type": "stream",
     "text": [
      "Batch 500, Loss: 2.261234\n"
     ]
    },
    {
     "name": "stderr",
     "output_type": "stream",
     "text": [
      "Training:  38%|██████████████████████████▉                                           | 601/1563 [02:51<04:30,  3.55it/s]"
     ]
    },
    {
     "name": "stdout",
     "output_type": "stream",
     "text": [
      "Batch 600, Loss: 2.324489\n"
     ]
    },
    {
     "name": "stderr",
     "output_type": "stream",
     "text": [
      "Training:  45%|███████████████████████████████▍                                      | 701/1563 [03:20<04:05,  3.51it/s]"
     ]
    },
    {
     "name": "stdout",
     "output_type": "stream",
     "text": [
      "Batch 700, Loss: 2.285165\n"
     ]
    },
    {
     "name": "stderr",
     "output_type": "stream",
     "text": [
      "Training:  51%|███████████████████████████████████▊                                  | 801/1563 [03:48<03:36,  3.51it/s]"
     ]
    },
    {
     "name": "stdout",
     "output_type": "stream",
     "text": [
      "Batch 800, Loss: 2.333035\n"
     ]
    },
    {
     "name": "stderr",
     "output_type": "stream",
     "text": [
      "Training:  58%|████████████████████████████████████████▎                             | 901/1563 [04:16<03:07,  3.53it/s]"
     ]
    },
    {
     "name": "stdout",
     "output_type": "stream",
     "text": [
      "Batch 900, Loss: 2.257785\n"
     ]
    },
    {
     "name": "stderr",
     "output_type": "stream",
     "text": [
      "Training:  64%|████████████████████████████████████████████▏                        | 1001/1563 [04:44<02:38,  3.55it/s]"
     ]
    },
    {
     "name": "stdout",
     "output_type": "stream",
     "text": [
      "Batch 1000, Loss: 2.314012\n"
     ]
    },
    {
     "name": "stderr",
     "output_type": "stream",
     "text": [
      "Training:  70%|████████████████████████████████████████████████▌                    | 1101/1563 [05:12<02:09,  3.56it/s]"
     ]
    },
    {
     "name": "stdout",
     "output_type": "stream",
     "text": [
      "Batch 1100, Loss: 2.259036\n"
     ]
    },
    {
     "name": "stderr",
     "output_type": "stream",
     "text": [
      "Training:  77%|█████████████████████████████████████████████████████                | 1201/1563 [05:41<01:41,  3.56it/s]"
     ]
    },
    {
     "name": "stdout",
     "output_type": "stream",
     "text": [
      "Batch 1200, Loss: 2.273772\n"
     ]
    },
    {
     "name": "stderr",
     "output_type": "stream",
     "text": [
      "Training:  83%|█████████████████████████████████████████████████████████▍           | 1301/1563 [06:09<01:12,  3.61it/s]"
     ]
    },
    {
     "name": "stdout",
     "output_type": "stream",
     "text": [
      "Batch 1300, Loss: 2.269225\n"
     ]
    },
    {
     "name": "stderr",
     "output_type": "stream",
     "text": [
      "Training:  90%|█████████████████████████████████████████████████████████████▊       | 1401/1563 [06:37<00:45,  3.53it/s]"
     ]
    },
    {
     "name": "stdout",
     "output_type": "stream",
     "text": [
      "Batch 1400, Loss: 2.194006\n"
     ]
    },
    {
     "name": "stderr",
     "output_type": "stream",
     "text": [
      "Training:  96%|██████████████████████████████████████████████████████████████████▎  | 1501/1563 [07:05<00:17,  3.52it/s]"
     ]
    },
    {
     "name": "stdout",
     "output_type": "stream",
     "text": [
      "Batch 1500, Loss: 2.209489\n"
     ]
    },
    {
     "name": "stderr",
     "output_type": "stream",
     "text": [
      "Training: 100%|█████████████████████████████████████████████████████████████████████| 1563/1563 [07:23<00:00,  3.53it/s]\n",
      "Validation: 100%|█████████████████████████████████████████████████████████████████████| 313/313 [00:26<00:00, 11.77it/s]\n"
     ]
    },
    {
     "name": "stdout",
     "output_type": "stream",
     "text": [
      "Train Loss: 2.2851, Train Acc: 14.09%\n",
      "Val Loss: 2.2559, Val Acc: 22.27%\n",
      "Best model saved!\n",
      "\n",
      "Epoch 2/30\n"
     ]
    },
    {
     "name": "stderr",
     "output_type": "stream",
     "text": [
      "Training:   0%|                                                                        | 1/1563 [00:00<12:55,  2.01it/s]"
     ]
    },
    {
     "name": "stdout",
     "output_type": "stream",
     "text": [
      "Batch 0, Loss: 2.330847\n"
     ]
    },
    {
     "name": "stderr",
     "output_type": "stream",
     "text": [
      "Training:   6%|████▌                                                                 | 101/1563 [00:28<06:44,  3.62it/s]"
     ]
    },
    {
     "name": "stdout",
     "output_type": "stream",
     "text": [
      "Batch 100, Loss: 2.249174\n"
     ]
    },
    {
     "name": "stderr",
     "output_type": "stream",
     "text": [
      "Training:  13%|█████████                                                             | 201/1563 [00:56<06:22,  3.56it/s]"
     ]
    },
    {
     "name": "stdout",
     "output_type": "stream",
     "text": [
      "Batch 200, Loss: 2.262446\n"
     ]
    },
    {
     "name": "stderr",
     "output_type": "stream",
     "text": [
      "Training:  19%|█████████████▍                                                        | 301/1563 [01:25<06:01,  3.49it/s]"
     ]
    },
    {
     "name": "stdout",
     "output_type": "stream",
     "text": [
      "Batch 300, Loss: 2.238708\n"
     ]
    },
    {
     "name": "stderr",
     "output_type": "stream",
     "text": [
      "Training:  26%|█████████████████▉                                                    | 401/1563 [01:53<05:28,  3.54it/s]"
     ]
    },
    {
     "name": "stdout",
     "output_type": "stream",
     "text": [
      "Batch 400, Loss: 2.150638\n"
     ]
    },
    {
     "name": "stderr",
     "output_type": "stream",
     "text": [
      "Training:  32%|██████████████████████▍                                               | 501/1563 [02:21<05:00,  3.54it/s]"
     ]
    },
    {
     "name": "stdout",
     "output_type": "stream",
     "text": [
      "Batch 500, Loss: 2.180843\n"
     ]
    },
    {
     "name": "stderr",
     "output_type": "stream",
     "text": [
      "Training:  38%|██████████████████████████▉                                           | 601/1563 [02:49<04:32,  3.53it/s]"
     ]
    },
    {
     "name": "stdout",
     "output_type": "stream",
     "text": [
      "Batch 600, Loss: 2.207849\n"
     ]
    },
    {
     "name": "stderr",
     "output_type": "stream",
     "text": [
      "Training:  45%|███████████████████████████████▍                                      | 701/1563 [03:17<04:04,  3.53it/s]"
     ]
    },
    {
     "name": "stdout",
     "output_type": "stream",
     "text": [
      "Batch 700, Loss: 2.215028\n"
     ]
    },
    {
     "name": "stderr",
     "output_type": "stream",
     "text": [
      "Training:  51%|███████████████████████████████████▊                                  | 801/1563 [03:45<03:33,  3.57it/s]"
     ]
    },
    {
     "name": "stdout",
     "output_type": "stream",
     "text": [
      "Batch 800, Loss: 2.240824\n"
     ]
    },
    {
     "name": "stderr",
     "output_type": "stream",
     "text": [
      "Training:  58%|████████████████████████████████████████▎                             | 901/1563 [04:14<03:03,  3.61it/s]"
     ]
    },
    {
     "name": "stdout",
     "output_type": "stream",
     "text": [
      "Batch 900, Loss: 2.231720\n"
     ]
    },
    {
     "name": "stderr",
     "output_type": "stream",
     "text": [
      "Training:  64%|████████████████████████████████████████████▏                        | 1001/1563 [04:42<02:42,  3.46it/s]"
     ]
    },
    {
     "name": "stdout",
     "output_type": "stream",
     "text": [
      "Batch 1000, Loss: 2.134579\n"
     ]
    },
    {
     "name": "stderr",
     "output_type": "stream",
     "text": [
      "Training:  70%|████████████████████████████████████████████████▌                    | 1101/1563 [05:10<02:10,  3.54it/s]"
     ]
    },
    {
     "name": "stdout",
     "output_type": "stream",
     "text": [
      "Batch 1100, Loss: 2.217266\n"
     ]
    },
    {
     "name": "stderr",
     "output_type": "stream",
     "text": [
      "Training:  77%|█████████████████████████████████████████████████████                | 1201/1563 [05:38<01:42,  3.52it/s]"
     ]
    },
    {
     "name": "stdout",
     "output_type": "stream",
     "text": [
      "Batch 1200, Loss: 2.230025\n"
     ]
    },
    {
     "name": "stderr",
     "output_type": "stream",
     "text": [
      "Training:  83%|█████████████████████████████████████████████████████████▍           | 1301/1563 [06:07<01:14,  3.54it/s]"
     ]
    },
    {
     "name": "stdout",
     "output_type": "stream",
     "text": [
      "Batch 1300, Loss: 2.247898\n"
     ]
    },
    {
     "name": "stderr",
     "output_type": "stream",
     "text": [
      "Training:  90%|█████████████████████████████████████████████████████████████▊       | 1401/1563 [06:35<00:45,  3.54it/s]"
     ]
    },
    {
     "name": "stdout",
     "output_type": "stream",
     "text": [
      "Batch 1400, Loss: 2.186980\n"
     ]
    },
    {
     "name": "stderr",
     "output_type": "stream",
     "text": [
      "Training:  96%|██████████████████████████████████████████████████████████████████▎  | 1501/1563 [07:03<00:17,  3.57it/s]"
     ]
    },
    {
     "name": "stdout",
     "output_type": "stream",
     "text": [
      "Batch 1500, Loss: 2.205276\n"
     ]
    },
    {
     "name": "stderr",
     "output_type": "stream",
     "text": [
      "Training: 100%|█████████████████████████████████████████████████████████████████████| 1563/1563 [07:20<00:00,  3.55it/s]\n",
      "Validation: 100%|█████████████████████████████████████████████████████████████████████| 313/313 [00:26<00:00, 11.96it/s]\n"
     ]
    },
    {
     "name": "stdout",
     "output_type": "stream",
     "text": [
      "Train Loss: 2.2200, Train Acc: 21.58%\n",
      "Val Loss: 2.1790, Val Acc: 30.57%\n",
      "Best model saved!\n",
      "\n",
      "Epoch 3/30\n"
     ]
    },
    {
     "name": "stderr",
     "output_type": "stream",
     "text": [
      "Training:   0%|                                                                        | 1/1563 [00:00<13:26,  1.94it/s]"
     ]
    },
    {
     "name": "stdout",
     "output_type": "stream",
     "text": [
      "Batch 0, Loss: 2.283973\n"
     ]
    },
    {
     "name": "stderr",
     "output_type": "stream",
     "text": [
      "Training:   6%|████▌                                                                 | 101/1563 [00:28<06:56,  3.51it/s]"
     ]
    },
    {
     "name": "stdout",
     "output_type": "stream",
     "text": [
      "Batch 100, Loss: 2.174902\n"
     ]
    },
    {
     "name": "stderr",
     "output_type": "stream",
     "text": [
      "Training:  13%|█████████                                                             | 201/1563 [00:56<06:29,  3.49it/s]"
     ]
    },
    {
     "name": "stdout",
     "output_type": "stream",
     "text": [
      "Batch 200, Loss: 2.244874\n"
     ]
    },
    {
     "name": "stderr",
     "output_type": "stream",
     "text": [
      "Training:  19%|█████████████▍                                                        | 301/1563 [01:24<05:52,  3.58it/s]"
     ]
    },
    {
     "name": "stdout",
     "output_type": "stream",
     "text": [
      "Batch 300, Loss: 2.124323\n"
     ]
    },
    {
     "name": "stderr",
     "output_type": "stream",
     "text": [
      "Training:  26%|█████████████████▉                                                    | 401/1563 [01:53<05:25,  3.57it/s]"
     ]
    },
    {
     "name": "stdout",
     "output_type": "stream",
     "text": [
      "Batch 400, Loss: 2.176664\n"
     ]
    },
    {
     "name": "stderr",
     "output_type": "stream",
     "text": [
      "Training:  32%|██████████████████████▍                                               | 501/1563 [02:21<04:53,  3.62it/s]"
     ]
    },
    {
     "name": "stdout",
     "output_type": "stream",
     "text": [
      "Batch 500, Loss: 2.126784\n"
     ]
    },
    {
     "name": "stderr",
     "output_type": "stream",
     "text": [
      "Training:  38%|██████████████████████████▉                                           | 601/1563 [02:49<04:35,  3.49it/s]"
     ]
    },
    {
     "name": "stdout",
     "output_type": "stream",
     "text": [
      "Batch 600, Loss: 2.133856\n"
     ]
    },
    {
     "name": "stderr",
     "output_type": "stream",
     "text": [
      "Training:  45%|███████████████████████████████▍                                      | 701/1563 [03:17<04:04,  3.52it/s]"
     ]
    },
    {
     "name": "stdout",
     "output_type": "stream",
     "text": [
      "Batch 700, Loss: 2.162468\n"
     ]
    },
    {
     "name": "stderr",
     "output_type": "stream",
     "text": [
      "Training:  51%|███████████████████████████████████▊                                  | 801/1563 [03:45<03:34,  3.55it/s]"
     ]
    },
    {
     "name": "stdout",
     "output_type": "stream",
     "text": [
      "Batch 800, Loss: 2.196624\n"
     ]
    },
    {
     "name": "stderr",
     "output_type": "stream",
     "text": [
      "Training:  58%|████████████████████████████████████████▎                             | 901/1563 [04:13<03:06,  3.55it/s]"
     ]
    },
    {
     "name": "stdout",
     "output_type": "stream",
     "text": [
      "Batch 900, Loss: 2.159741\n"
     ]
    },
    {
     "name": "stderr",
     "output_type": "stream",
     "text": [
      "Training:  64%|████████████████████████████████████████████▏                        | 1001/1563 [04:42<02:39,  3.53it/s]"
     ]
    },
    {
     "name": "stdout",
     "output_type": "stream",
     "text": [
      "Batch 1000, Loss: 2.203907\n"
     ]
    },
    {
     "name": "stderr",
     "output_type": "stream",
     "text": [
      "Training:  70%|████████████████████████████████████████████████▌                    | 1101/1563 [05:10<02:09,  3.56it/s]"
     ]
    },
    {
     "name": "stdout",
     "output_type": "stream",
     "text": [
      "Batch 1100, Loss: 2.171530\n"
     ]
    },
    {
     "name": "stderr",
     "output_type": "stream",
     "text": [
      "Training:  77%|█████████████████████████████████████████████████████                | 1201/1563 [05:38<01:42,  3.54it/s]"
     ]
    },
    {
     "name": "stdout",
     "output_type": "stream",
     "text": [
      "Batch 1200, Loss: 2.137446\n"
     ]
    },
    {
     "name": "stderr",
     "output_type": "stream",
     "text": [
      "Training:  83%|█████████████████████████████████████████████████████████▍           | 1301/1563 [06:06<01:12,  3.60it/s]"
     ]
    },
    {
     "name": "stdout",
     "output_type": "stream",
     "text": [
      "Batch 1300, Loss: 2.138927\n"
     ]
    },
    {
     "name": "stderr",
     "output_type": "stream",
     "text": [
      "Training:  90%|█████████████████████████████████████████████████████████████▊       | 1401/1563 [06:35<00:46,  3.50it/s]"
     ]
    },
    {
     "name": "stdout",
     "output_type": "stream",
     "text": [
      "Batch 1400, Loss: 2.136591\n"
     ]
    },
    {
     "name": "stderr",
     "output_type": "stream",
     "text": [
      "Training:  96%|██████████████████████████████████████████████████████████████████▎  | 1501/1563 [07:03<00:17,  3.51it/s]"
     ]
    },
    {
     "name": "stdout",
     "output_type": "stream",
     "text": [
      "Batch 1500, Loss: 2.062933\n"
     ]
    },
    {
     "name": "stderr",
     "output_type": "stream",
     "text": [
      "Training: 100%|█████████████████████████████████████████████████████████████████████| 1563/1563 [07:20<00:00,  3.55it/s]\n",
      "Validation: 100%|█████████████████████████████████████████████████████████████████████| 313/313 [00:26<00:00, 11.81it/s]\n"
     ]
    },
    {
     "name": "stdout",
     "output_type": "stream",
     "text": [
      "Train Loss: 2.1583, Train Acc: 27.67%\n",
      "Val Loss: 2.0620, Val Acc: 37.68%\n",
      "Best model saved!\n",
      "\n",
      "Epoch 4/30\n"
     ]
    },
    {
     "name": "stderr",
     "output_type": "stream",
     "text": [
      "Training:   0%|                                                                        | 1/1563 [00:00<12:45,  2.04it/s]"
     ]
    },
    {
     "name": "stdout",
     "output_type": "stream",
     "text": [
      "Batch 0, Loss: 2.204725\n"
     ]
    },
    {
     "name": "stderr",
     "output_type": "stream",
     "text": [
      "Training:   6%|████▌                                                                 | 101/1563 [00:28<06:45,  3.61it/s]"
     ]
    },
    {
     "name": "stdout",
     "output_type": "stream",
     "text": [
      "Batch 100, Loss: 2.155682\n"
     ]
    },
    {
     "name": "stderr",
     "output_type": "stream",
     "text": [
      "Training:  13%|█████████                                                             | 201/1563 [00:57<06:25,  3.53it/s]"
     ]
    },
    {
     "name": "stdout",
     "output_type": "stream",
     "text": [
      "Batch 200, Loss: 2.189961\n"
     ]
    },
    {
     "name": "stderr",
     "output_type": "stream",
     "text": [
      "Training:  19%|█████████████▍                                                        | 301/1563 [01:25<05:59,  3.51it/s]"
     ]
    },
    {
     "name": "stdout",
     "output_type": "stream",
     "text": [
      "Batch 300, Loss: 2.063837\n"
     ]
    },
    {
     "name": "stderr",
     "output_type": "stream",
     "text": [
      "Training:  26%|█████████████████▉                                                    | 401/1563 [01:53<05:28,  3.54it/s]"
     ]
    },
    {
     "name": "stdout",
     "output_type": "stream",
     "text": [
      "Batch 400, Loss: 2.066869\n"
     ]
    },
    {
     "name": "stderr",
     "output_type": "stream",
     "text": [
      "Training:  32%|██████████████████████▍                                               | 501/1563 [02:21<04:59,  3.55it/s]"
     ]
    },
    {
     "name": "stdout",
     "output_type": "stream",
     "text": [
      "Batch 500, Loss: 2.238847\n"
     ]
    },
    {
     "name": "stderr",
     "output_type": "stream",
     "text": [
      "Training:  38%|██████████████████████████▉                                           | 601/1563 [02:49<04:31,  3.54it/s]"
     ]
    },
    {
     "name": "stdout",
     "output_type": "stream",
     "text": [
      "Batch 600, Loss: 2.062911\n"
     ]
    },
    {
     "name": "stderr",
     "output_type": "stream",
     "text": [
      "Training:  45%|███████████████████████████████▍                                      | 701/1563 [03:18<04:02,  3.55it/s]"
     ]
    },
    {
     "name": "stdout",
     "output_type": "stream",
     "text": [
      "Batch 700, Loss: 2.068830\n"
     ]
    },
    {
     "name": "stderr",
     "output_type": "stream",
     "text": [
      "Training:  51%|███████████████████████████████████▊                                  | 801/1563 [03:46<03:34,  3.56it/s]"
     ]
    },
    {
     "name": "stdout",
     "output_type": "stream",
     "text": [
      "Batch 800, Loss: 1.969269\n"
     ]
    },
    {
     "name": "stderr",
     "output_type": "stream",
     "text": [
      "Training:  58%|████████████████████████████████████████▎                             | 901/1563 [04:14<03:04,  3.58it/s]"
     ]
    },
    {
     "name": "stdout",
     "output_type": "stream",
     "text": [
      "Batch 900, Loss: 1.987720\n"
     ]
    },
    {
     "name": "stderr",
     "output_type": "stream",
     "text": [
      "Training:  64%|████████████████████████████████████████████▏                        | 1001/1563 [04:42<02:41,  3.48it/s]"
     ]
    },
    {
     "name": "stdout",
     "output_type": "stream",
     "text": [
      "Batch 1000, Loss: 2.040682\n"
     ]
    },
    {
     "name": "stderr",
     "output_type": "stream",
     "text": [
      "Training:  70%|████████████████████████████████████████████████▌                    | 1101/1563 [05:11<02:11,  3.51it/s]"
     ]
    },
    {
     "name": "stdout",
     "output_type": "stream",
     "text": [
      "Batch 1100, Loss: 2.126520\n"
     ]
    },
    {
     "name": "stderr",
     "output_type": "stream",
     "text": [
      "Training:  77%|█████████████████████████████████████████████████████                | 1201/1563 [05:39<01:42,  3.53it/s]"
     ]
    },
    {
     "name": "stdout",
     "output_type": "stream",
     "text": [
      "Batch 1200, Loss: 2.155226\n"
     ]
    },
    {
     "name": "stderr",
     "output_type": "stream",
     "text": [
      "Training:  83%|█████████████████████████████████████████████████████████▍           | 1301/1563 [06:07<01:14,  3.52it/s]"
     ]
    },
    {
     "name": "stdout",
     "output_type": "stream",
     "text": [
      "Batch 1300, Loss: 2.159193\n"
     ]
    },
    {
     "name": "stderr",
     "output_type": "stream",
     "text": [
      "Training:  90%|█████████████████████████████████████████████████████████████▊       | 1401/1563 [06:35<00:45,  3.52it/s]"
     ]
    },
    {
     "name": "stdout",
     "output_type": "stream",
     "text": [
      "Batch 1400, Loss: 2.130952\n"
     ]
    },
    {
     "name": "stderr",
     "output_type": "stream",
     "text": [
      "Training:  96%|██████████████████████████████████████████████████████████████████▎  | 1501/1563 [07:04<00:17,  3.53it/s]"
     ]
    },
    {
     "name": "stdout",
     "output_type": "stream",
     "text": [
      "Batch 1500, Loss: 2.097268\n"
     ]
    },
    {
     "name": "stderr",
     "output_type": "stream",
     "text": [
      "Training: 100%|█████████████████████████████████████████████████████████████████████| 1563/1563 [07:21<00:00,  3.54it/s]\n",
      "Validation: 100%|█████████████████████████████████████████████████████████████████████| 313/313 [00:26<00:00, 11.72it/s]\n"
     ]
    },
    {
     "name": "stdout",
     "output_type": "stream",
     "text": [
      "Train Loss: 2.1035, Train Acc: 29.43%\n",
      "Val Loss: 1.9074, Val Acc: 40.94%\n",
      "Best model saved!\n",
      "\n",
      "Epoch 5/30\n"
     ]
    },
    {
     "name": "stderr",
     "output_type": "stream",
     "text": [
      "Training:   0%|                                                                        | 1/1563 [00:00<13:06,  1.99it/s]"
     ]
    },
    {
     "name": "stdout",
     "output_type": "stream",
     "text": [
      "Batch 0, Loss: 2.022764\n"
     ]
    },
    {
     "name": "stderr",
     "output_type": "stream",
     "text": [
      "Training:   6%|████▌                                                                 | 101/1563 [00:28<06:56,  3.51it/s]"
     ]
    },
    {
     "name": "stdout",
     "output_type": "stream",
     "text": [
      "Batch 100, Loss: 2.114749\n"
     ]
    },
    {
     "name": "stderr",
     "output_type": "stream",
     "text": [
      "Training:  13%|█████████                                                             | 201/1563 [00:57<06:24,  3.54it/s]"
     ]
    },
    {
     "name": "stdout",
     "output_type": "stream",
     "text": [
      "Batch 200, Loss: 2.089629\n"
     ]
    },
    {
     "name": "stderr",
     "output_type": "stream",
     "text": [
      "Training:  19%|█████████████▍                                                        | 301/1563 [01:25<05:54,  3.56it/s]"
     ]
    },
    {
     "name": "stdout",
     "output_type": "stream",
     "text": [
      "Batch 300, Loss: 2.114773\n"
     ]
    },
    {
     "name": "stderr",
     "output_type": "stream",
     "text": [
      "Training:  26%|█████████████████▉                                                    | 401/1563 [01:53<05:27,  3.55it/s]"
     ]
    },
    {
     "name": "stdout",
     "output_type": "stream",
     "text": [
      "Batch 400, Loss: 1.963186\n"
     ]
    },
    {
     "name": "stderr",
     "output_type": "stream",
     "text": [
      "Training:  32%|██████████████████████▍                                               | 501/1563 [02:21<04:53,  3.62it/s]"
     ]
    },
    {
     "name": "stdout",
     "output_type": "stream",
     "text": [
      "Batch 500, Loss: 2.073832\n"
     ]
    },
    {
     "name": "stderr",
     "output_type": "stream",
     "text": [
      "Training:  38%|██████████████████████████▉                                           | 601/1563 [02:50<04:31,  3.55it/s]"
     ]
    },
    {
     "name": "stdout",
     "output_type": "stream",
     "text": [
      "Batch 600, Loss: 2.230799\n"
     ]
    },
    {
     "name": "stderr",
     "output_type": "stream",
     "text": [
      "Training:  45%|███████████████████████████████▍                                      | 701/1563 [03:18<04:04,  3.53it/s]"
     ]
    },
    {
     "name": "stdout",
     "output_type": "stream",
     "text": [
      "Batch 700, Loss: 2.058305\n"
     ]
    },
    {
     "name": "stderr",
     "output_type": "stream",
     "text": [
      "Training:  51%|███████████████████████████████████▊                                  | 801/1563 [03:47<03:37,  3.50it/s]"
     ]
    },
    {
     "name": "stdout",
     "output_type": "stream",
     "text": [
      "Batch 800, Loss: 2.131987\n"
     ]
    },
    {
     "name": "stderr",
     "output_type": "stream",
     "text": [
      "Training:  58%|████████████████████████████████████████▎                             | 901/1563 [04:15<03:10,  3.48it/s]"
     ]
    },
    {
     "name": "stdout",
     "output_type": "stream",
     "text": [
      "Batch 900, Loss: 2.076921\n"
     ]
    },
    {
     "name": "stderr",
     "output_type": "stream",
     "text": [
      "Training:  64%|████████████████████████████████████████████▏                        | 1001/1563 [04:43<02:40,  3.49it/s]"
     ]
    },
    {
     "name": "stdout",
     "output_type": "stream",
     "text": [
      "Batch 1000, Loss: 2.170782\n"
     ]
    },
    {
     "name": "stderr",
     "output_type": "stream",
     "text": [
      "Training:  70%|████████████████████████████████████████████████▌                    | 1101/1563 [05:12<02:13,  3.46it/s]"
     ]
    },
    {
     "name": "stdout",
     "output_type": "stream",
     "text": [
      "Batch 1100, Loss: 2.053147\n"
     ]
    },
    {
     "name": "stderr",
     "output_type": "stream",
     "text": [
      "Training:  77%|█████████████████████████████████████████████████████                | 1201/1563 [05:40<01:41,  3.56it/s]"
     ]
    },
    {
     "name": "stdout",
     "output_type": "stream",
     "text": [
      "Batch 1200, Loss: 2.287496\n"
     ]
    },
    {
     "name": "stderr",
     "output_type": "stream",
     "text": [
      "Training:  83%|█████████████████████████████████████████████████████████▍           | 1301/1563 [06:08<01:12,  3.60it/s]"
     ]
    },
    {
     "name": "stdout",
     "output_type": "stream",
     "text": [
      "Batch 1300, Loss: 2.122184\n"
     ]
    },
    {
     "name": "stderr",
     "output_type": "stream",
     "text": [
      "Training:  90%|█████████████████████████████████████████████████████████████▊       | 1401/1563 [06:37<00:45,  3.58it/s]"
     ]
    },
    {
     "name": "stdout",
     "output_type": "stream",
     "text": [
      "Batch 1400, Loss: 2.160533\n"
     ]
    },
    {
     "name": "stderr",
     "output_type": "stream",
     "text": [
      "Training:  96%|██████████████████████████████████████████████████████████████████▎  | 1501/1563 [07:05<00:17,  3.49it/s]"
     ]
    },
    {
     "name": "stdout",
     "output_type": "stream",
     "text": [
      "Batch 1500, Loss: 2.074539\n"
     ]
    },
    {
     "name": "stderr",
     "output_type": "stream",
     "text": [
      "Training: 100%|█████████████████████████████████████████████████████████████████████| 1563/1563 [07:23<00:00,  3.53it/s]\n",
      "Validation: 100%|█████████████████████████████████████████████████████████████████████| 313/313 [00:26<00:00, 11.74it/s]\n"
     ]
    },
    {
     "name": "stdout",
     "output_type": "stream",
     "text": [
      "Train Loss: 2.1104, Train Acc: 26.50%\n",
      "Val Loss: 1.8592, Val Acc: 41.41%\n",
      "Best model saved!\n",
      "\n",
      "Epoch 6/30\n"
     ]
    },
    {
     "name": "stderr",
     "output_type": "stream",
     "text": [
      "Training:   0%|                                                                        | 1/1563 [00:00<14:21,  1.81it/s]"
     ]
    },
    {
     "name": "stdout",
     "output_type": "stream",
     "text": [
      "Batch 0, Loss: 2.063855\n"
     ]
    },
    {
     "name": "stderr",
     "output_type": "stream",
     "text": [
      "Training:   6%|████▌                                                                 | 101/1563 [00:28<06:51,  3.55it/s]"
     ]
    },
    {
     "name": "stdout",
     "output_type": "stream",
     "text": [
      "Batch 100, Loss: 2.142179\n"
     ]
    },
    {
     "name": "stderr",
     "output_type": "stream",
     "text": [
      "Training:  13%|█████████                                                             | 201/1563 [00:57<06:15,  3.63it/s]"
     ]
    },
    {
     "name": "stdout",
     "output_type": "stream",
     "text": [
      "Batch 200, Loss: 2.092803\n"
     ]
    },
    {
     "name": "stderr",
     "output_type": "stream",
     "text": [
      "Training:  19%|█████████████▍                                                        | 301/1563 [01:25<05:58,  3.52it/s]"
     ]
    },
    {
     "name": "stdout",
     "output_type": "stream",
     "text": [
      "Batch 300, Loss: 2.132545\n"
     ]
    },
    {
     "name": "stderr",
     "output_type": "stream",
     "text": [
      "Training:  26%|█████████████████▉                                                    | 401/1563 [01:53<05:33,  3.48it/s]"
     ]
    },
    {
     "name": "stdout",
     "output_type": "stream",
     "text": [
      "Batch 400, Loss: 2.116791\n"
     ]
    },
    {
     "name": "stderr",
     "output_type": "stream",
     "text": [
      "Training:  32%|██████████████████████▍                                               | 501/1563 [02:22<05:04,  3.49it/s]"
     ]
    },
    {
     "name": "stdout",
     "output_type": "stream",
     "text": [
      "Batch 500, Loss: 2.127933\n"
     ]
    },
    {
     "name": "stderr",
     "output_type": "stream",
     "text": [
      "Training:  38%|██████████████████████████▉                                           | 601/1563 [02:50<04:32,  3.52it/s]"
     ]
    },
    {
     "name": "stdout",
     "output_type": "stream",
     "text": [
      "Batch 600, Loss: 2.132459\n"
     ]
    },
    {
     "name": "stderr",
     "output_type": "stream",
     "text": [
      "Training:  45%|███████████████████████████████▍                                      | 701/1563 [03:18<04:03,  3.54it/s]"
     ]
    },
    {
     "name": "stdout",
     "output_type": "stream",
     "text": [
      "Batch 700, Loss: 2.122930\n"
     ]
    },
    {
     "name": "stderr",
     "output_type": "stream",
     "text": [
      "Training:  51%|███████████████████████████████████▊                                  | 801/1563 [03:47<03:36,  3.52it/s]"
     ]
    },
    {
     "name": "stdout",
     "output_type": "stream",
     "text": [
      "Batch 800, Loss: 2.119610\n"
     ]
    },
    {
     "name": "stderr",
     "output_type": "stream",
     "text": [
      "Training:  58%|████████████████████████████████████████▎                             | 901/1563 [04:15<03:05,  3.57it/s]"
     ]
    },
    {
     "name": "stdout",
     "output_type": "stream",
     "text": [
      "Batch 900, Loss: 2.122133\n"
     ]
    },
    {
     "name": "stderr",
     "output_type": "stream",
     "text": [
      "Training:  64%|████████████████████████████████████████████▏                        | 1001/1563 [04:43<02:35,  3.61it/s]"
     ]
    },
    {
     "name": "stdout",
     "output_type": "stream",
     "text": [
      "Batch 1000, Loss: 2.071676\n"
     ]
    },
    {
     "name": "stderr",
     "output_type": "stream",
     "text": [
      "Training:  70%|████████████████████████████████████████████████▌                    | 1101/1563 [05:11<02:12,  3.49it/s]"
     ]
    },
    {
     "name": "stdout",
     "output_type": "stream",
     "text": [
      "Batch 1100, Loss: 2.121518\n"
     ]
    },
    {
     "name": "stderr",
     "output_type": "stream",
     "text": [
      "Training:  77%|█████████████████████████████████████████████████████                | 1201/1563 [05:40<01:45,  3.43it/s]"
     ]
    },
    {
     "name": "stdout",
     "output_type": "stream",
     "text": [
      "Batch 1200, Loss: 2.157873\n"
     ]
    },
    {
     "name": "stderr",
     "output_type": "stream",
     "text": [
      "Training:  83%|█████████████████████████████████████████████████████████▍           | 1301/1563 [06:08<01:14,  3.52it/s]"
     ]
    },
    {
     "name": "stdout",
     "output_type": "stream",
     "text": [
      "Batch 1300, Loss: 2.163997\n"
     ]
    },
    {
     "name": "stderr",
     "output_type": "stream",
     "text": [
      "Training:  90%|█████████████████████████████████████████████████████████████▊       | 1401/1563 [06:36<00:46,  3.52it/s]"
     ]
    },
    {
     "name": "stdout",
     "output_type": "stream",
     "text": [
      "Batch 1400, Loss: 2.210775\n"
     ]
    },
    {
     "name": "stderr",
     "output_type": "stream",
     "text": [
      "Training:  96%|██████████████████████████████████████████████████████████████████▎  | 1501/1563 [07:05<00:17,  3.52it/s]"
     ]
    },
    {
     "name": "stdout",
     "output_type": "stream",
     "text": [
      "Batch 1500, Loss: 2.144550\n"
     ]
    },
    {
     "name": "stderr",
     "output_type": "stream",
     "text": [
      "Training: 100%|█████████████████████████████████████████████████████████████████████| 1563/1563 [07:22<00:00,  3.53it/s]\n",
      "Validation: 100%|█████████████████████████████████████████████████████████████████████| 313/313 [00:26<00:00, 11.72it/s]\n"
     ]
    },
    {
     "name": "stdout",
     "output_type": "stream",
     "text": [
      "Train Loss: 2.1468, Train Acc: 23.20%\n",
      "Val Loss: 1.8768, Val Acc: 39.86%\n",
      "\n",
      "Epoch 7/30\n"
     ]
    },
    {
     "name": "stderr",
     "output_type": "stream",
     "text": [
      "Training:   0%|                                                                        | 1/1563 [00:00<13:15,  1.96it/s]"
     ]
    },
    {
     "name": "stdout",
     "output_type": "stream",
     "text": [
      "Batch 0, Loss: 2.184054\n"
     ]
    },
    {
     "name": "stderr",
     "output_type": "stream",
     "text": [
      "Training:   6%|████▌                                                                 | 101/1563 [00:28<06:57,  3.51it/s]"
     ]
    },
    {
     "name": "stdout",
     "output_type": "stream",
     "text": [
      "Batch 100, Loss: 2.204151\n"
     ]
    },
    {
     "name": "stderr",
     "output_type": "stream",
     "text": [
      "Training:  13%|█████████                                                             | 201/1563 [00:56<06:27,  3.51it/s]"
     ]
    },
    {
     "name": "stdout",
     "output_type": "stream",
     "text": [
      "Batch 200, Loss: 2.130811\n"
     ]
    },
    {
     "name": "stderr",
     "output_type": "stream",
     "text": [
      "Training:  19%|█████████████▍                                                        | 301/1563 [01:25<05:56,  3.54it/s]"
     ]
    },
    {
     "name": "stdout",
     "output_type": "stream",
     "text": [
      "Batch 300, Loss: 2.128471\n"
     ]
    },
    {
     "name": "stderr",
     "output_type": "stream",
     "text": [
      "Training:  26%|█████████████████▉                                                    | 401/1563 [01:53<05:28,  3.54it/s]"
     ]
    },
    {
     "name": "stdout",
     "output_type": "stream",
     "text": [
      "Batch 400, Loss: 2.055604\n"
     ]
    },
    {
     "name": "stderr",
     "output_type": "stream",
     "text": [
      "Training:  32%|██████████████████████▍                                               | 501/1563 [02:21<04:59,  3.54it/s]"
     ]
    },
    {
     "name": "stdout",
     "output_type": "stream",
     "text": [
      "Batch 500, Loss: 2.111493\n"
     ]
    },
    {
     "name": "stderr",
     "output_type": "stream",
     "text": [
      "Training:  38%|██████████████████████████▉                                           | 601/1563 [02:49<04:25,  3.62it/s]"
     ]
    },
    {
     "name": "stdout",
     "output_type": "stream",
     "text": [
      "Batch 600, Loss: 2.141406\n"
     ]
    },
    {
     "name": "stderr",
     "output_type": "stream",
     "text": [
      "Training:  45%|███████████████████████████████▍                                      | 701/1563 [03:17<04:03,  3.54it/s]"
     ]
    },
    {
     "name": "stdout",
     "output_type": "stream",
     "text": [
      "Batch 700, Loss: 2.143522\n"
     ]
    },
    {
     "name": "stderr",
     "output_type": "stream",
     "text": [
      "Training:  51%|███████████████████████████████████▊                                  | 801/1563 [03:46<03:36,  3.53it/s]"
     ]
    },
    {
     "name": "stdout",
     "output_type": "stream",
     "text": [
      "Batch 800, Loss: 2.107188\n"
     ]
    },
    {
     "name": "stderr",
     "output_type": "stream",
     "text": [
      "Training:  58%|████████████████████████████████████████▎                             | 901/1563 [04:14<03:09,  3.49it/s]"
     ]
    },
    {
     "name": "stdout",
     "output_type": "stream",
     "text": [
      "Batch 900, Loss: 2.180995\n"
     ]
    },
    {
     "name": "stderr",
     "output_type": "stream",
     "text": [
      "Training:  64%|████████████████████████████████████████████▏                        | 1001/1563 [04:42<02:40,  3.51it/s]"
     ]
    },
    {
     "name": "stdout",
     "output_type": "stream",
     "text": [
      "Batch 1000, Loss: 2.185929\n"
     ]
    },
    {
     "name": "stderr",
     "output_type": "stream",
     "text": [
      "Training:  70%|████████████████████████████████████████████████▌                    | 1101/1563 [05:10<02:10,  3.55it/s]"
     ]
    },
    {
     "name": "stdout",
     "output_type": "stream",
     "text": [
      "Batch 1100, Loss: 2.161424\n"
     ]
    },
    {
     "name": "stderr",
     "output_type": "stream",
     "text": [
      "Training:  77%|█████████████████████████████████████████████████████                | 1201/1563 [05:38<01:44,  3.48it/s]"
     ]
    },
    {
     "name": "stdout",
     "output_type": "stream",
     "text": [
      "Batch 1200, Loss: 2.221120\n"
     ]
    },
    {
     "name": "stderr",
     "output_type": "stream",
     "text": [
      "Training:  83%|█████████████████████████████████████████████████████████▍           | 1301/1563 [06:07<01:14,  3.50it/s]"
     ]
    },
    {
     "name": "stdout",
     "output_type": "stream",
     "text": [
      "Batch 1300, Loss: 2.197825\n"
     ]
    },
    {
     "name": "stderr",
     "output_type": "stream",
     "text": [
      "Training:  90%|█████████████████████████████████████████████████████████████▊       | 1401/1563 [06:35<00:46,  3.51it/s]"
     ]
    },
    {
     "name": "stdout",
     "output_type": "stream",
     "text": [
      "Batch 1400, Loss: 2.198333\n"
     ]
    },
    {
     "name": "stderr",
     "output_type": "stream",
     "text": [
      "Training:  96%|██████████████████████████████████████████████████████████████████▎  | 1501/1563 [07:03<00:15,  4.08it/s]"
     ]
    },
    {
     "name": "stdout",
     "output_type": "stream",
     "text": [
      "Batch 1500, Loss: 2.106270\n"
     ]
    },
    {
     "name": "stderr",
     "output_type": "stream",
     "text": [
      "Training: 100%|█████████████████████████████████████████████████████████████████████| 1563/1563 [07:21<00:00,  3.54it/s]\n",
      "Validation: 100%|█████████████████████████████████████████████████████████████████████| 313/313 [00:26<00:00, 11.83it/s]\n"
     ]
    },
    {
     "name": "stdout",
     "output_type": "stream",
     "text": [
      "Train Loss: 2.1672, Train Acc: 21.31%\n",
      "Val Loss: 1.8874, Val Acc: 38.47%\n",
      "\n",
      "Epoch 8/30\n"
     ]
    },
    {
     "name": "stderr",
     "output_type": "stream",
     "text": [
      "Training:   0%|                                                                        | 1/1563 [00:00<12:12,  2.13it/s]"
     ]
    },
    {
     "name": "stdout",
     "output_type": "stream",
     "text": [
      "Batch 0, Loss: 2.297537\n"
     ]
    },
    {
     "name": "stderr",
     "output_type": "stream",
     "text": [
      "Training:   6%|████▌                                                                 | 101/1563 [00:28<06:52,  3.54it/s]"
     ]
    },
    {
     "name": "stdout",
     "output_type": "stream",
     "text": [
      "Batch 100, Loss: 2.207305\n"
     ]
    },
    {
     "name": "stderr",
     "output_type": "stream",
     "text": [
      "Training:  13%|█████████                                                             | 201/1563 [00:56<06:17,  3.61it/s]"
     ]
    },
    {
     "name": "stdout",
     "output_type": "stream",
     "text": [
      "Batch 200, Loss: 2.180040\n"
     ]
    },
    {
     "name": "stderr",
     "output_type": "stream",
     "text": [
      "Training:  19%|█████████████▍                                                        | 301/1563 [01:25<05:47,  3.63it/s]"
     ]
    },
    {
     "name": "stdout",
     "output_type": "stream",
     "text": [
      "Batch 300, Loss: 2.074892\n"
     ]
    },
    {
     "name": "stderr",
     "output_type": "stream",
     "text": [
      "Training:  26%|█████████████████▉                                                    | 401/1563 [01:53<05:34,  3.48it/s]"
     ]
    },
    {
     "name": "stdout",
     "output_type": "stream",
     "text": [
      "Batch 400, Loss: 2.111446\n"
     ]
    },
    {
     "name": "stderr",
     "output_type": "stream",
     "text": [
      "Training:  32%|██████████████████████▍                                               | 501/1563 [02:21<05:01,  3.52it/s]"
     ]
    },
    {
     "name": "stdout",
     "output_type": "stream",
     "text": [
      "Batch 500, Loss: 2.134717\n"
     ]
    },
    {
     "name": "stderr",
     "output_type": "stream",
     "text": [
      "Training:  38%|██████████████████████████▉                                           | 601/1563 [02:50<04:32,  3.52it/s]"
     ]
    },
    {
     "name": "stdout",
     "output_type": "stream",
     "text": [
      "Batch 600, Loss: 2.219104\n"
     ]
    },
    {
     "name": "stderr",
     "output_type": "stream",
     "text": [
      "Training:  45%|███████████████████████████████▍                                      | 701/1563 [03:18<04:11,  3.42it/s]"
     ]
    },
    {
     "name": "stdout",
     "output_type": "stream",
     "text": [
      "Batch 700, Loss: 2.058351\n"
     ]
    },
    {
     "name": "stderr",
     "output_type": "stream",
     "text": [
      "Training:  51%|███████████████████████████████████▊                                  | 801/1563 [03:46<03:34,  3.56it/s]"
     ]
    },
    {
     "name": "stdout",
     "output_type": "stream",
     "text": [
      "Batch 800, Loss: 2.236920\n"
     ]
    },
    {
     "name": "stderr",
     "output_type": "stream",
     "text": [
      "Training:  58%|████████████████████████████████████████▎                             | 901/1563 [04:15<03:07,  3.53it/s]"
     ]
    },
    {
     "name": "stdout",
     "output_type": "stream",
     "text": [
      "Batch 900, Loss: 2.252281\n"
     ]
    },
    {
     "name": "stderr",
     "output_type": "stream",
     "text": [
      "Training:  64%|████████████████████████████████████████████▏                        | 1001/1563 [04:43<02:36,  3.59it/s]"
     ]
    },
    {
     "name": "stdout",
     "output_type": "stream",
     "text": [
      "Batch 1000, Loss: 2.148509\n"
     ]
    },
    {
     "name": "stderr",
     "output_type": "stream",
     "text": [
      "Training:  70%|████████████████████████████████████████████████▌                    | 1101/1563 [05:11<02:07,  3.62it/s]"
     ]
    },
    {
     "name": "stdout",
     "output_type": "stream",
     "text": [
      "Batch 1100, Loss: 2.011455\n"
     ]
    },
    {
     "name": "stderr",
     "output_type": "stream",
     "text": [
      "Training:  77%|█████████████████████████████████████████████████████                | 1201/1563 [05:40<01:43,  3.50it/s]"
     ]
    },
    {
     "name": "stdout",
     "output_type": "stream",
     "text": [
      "Batch 1200, Loss: 2.154149\n"
     ]
    },
    {
     "name": "stderr",
     "output_type": "stream",
     "text": [
      "Training:  83%|█████████████████████████████████████████████████████████▍           | 1301/1563 [06:08<01:14,  3.51it/s]"
     ]
    },
    {
     "name": "stdout",
     "output_type": "stream",
     "text": [
      "Batch 1300, Loss: 2.191719\n"
     ]
    },
    {
     "name": "stderr",
     "output_type": "stream",
     "text": [
      "Training:  90%|█████████████████████████████████████████████████████████████▊       | 1401/1563 [06:36<00:46,  3.52it/s]"
     ]
    },
    {
     "name": "stdout",
     "output_type": "stream",
     "text": [
      "Batch 1400, Loss: 2.243181\n"
     ]
    },
    {
     "name": "stderr",
     "output_type": "stream",
     "text": [
      "Training:  96%|██████████████████████████████████████████████████████████████████▎  | 1501/1563 [07:04<00:17,  3.51it/s]"
     ]
    },
    {
     "name": "stdout",
     "output_type": "stream",
     "text": [
      "Batch 1500, Loss: 2.135041\n"
     ]
    },
    {
     "name": "stderr",
     "output_type": "stream",
     "text": [
      "Training: 100%|█████████████████████████████████████████████████████████████████████| 1563/1563 [07:22<00:00,  3.53it/s]\n",
      "Validation: 100%|█████████████████████████████████████████████████████████████████████| 313/313 [00:26<00:00, 11.71it/s]\n"
     ]
    },
    {
     "name": "stdout",
     "output_type": "stream",
     "text": [
      "Train Loss: 2.1740, Train Acc: 20.38%\n",
      "Val Loss: 1.8912, Val Acc: 38.09%\n",
      "\n",
      "Epoch 9/30\n"
     ]
    },
    {
     "name": "stderr",
     "output_type": "stream",
     "text": [
      "Training:   0%|                                                                        | 1/1563 [00:00<13:07,  1.98it/s]"
     ]
    },
    {
     "name": "stdout",
     "output_type": "stream",
     "text": [
      "Batch 0, Loss: 2.513169\n"
     ]
    },
    {
     "name": "stderr",
     "output_type": "stream",
     "text": [
      "Training:   6%|████▌                                                                 | 101/1563 [00:28<06:59,  3.48it/s]"
     ]
    },
    {
     "name": "stdout",
     "output_type": "stream",
     "text": [
      "Batch 100, Loss: 2.169976\n"
     ]
    },
    {
     "name": "stderr",
     "output_type": "stream",
     "text": [
      "Training:  13%|█████████                                                             | 201/1563 [00:57<06:28,  3.50it/s]"
     ]
    },
    {
     "name": "stdout",
     "output_type": "stream",
     "text": [
      "Batch 200, Loss: 2.182358\n"
     ]
    },
    {
     "name": "stderr",
     "output_type": "stream",
     "text": [
      "Training:  19%|█████████████▍                                                        | 301/1563 [01:25<05:59,  3.51it/s]"
     ]
    },
    {
     "name": "stdout",
     "output_type": "stream",
     "text": [
      "Batch 300, Loss: 2.127049\n"
     ]
    },
    {
     "name": "stderr",
     "output_type": "stream",
     "text": [
      "Training:  26%|█████████████████▉                                                    | 401/1563 [01:53<05:31,  3.51it/s]"
     ]
    },
    {
     "name": "stdout",
     "output_type": "stream",
     "text": [
      "Batch 400, Loss: 2.226463\n"
     ]
    },
    {
     "name": "stderr",
     "output_type": "stream",
     "text": [
      "Training:  32%|██████████████████████▍                                               | 501/1563 [02:22<04:59,  3.54it/s]"
     ]
    },
    {
     "name": "stdout",
     "output_type": "stream",
     "text": [
      "Batch 500, Loss: 2.043745\n"
     ]
    },
    {
     "name": "stderr",
     "output_type": "stream",
     "text": [
      "Training:  38%|██████████████████████████▉                                           | 601/1563 [02:50<04:30,  3.56it/s]"
     ]
    },
    {
     "name": "stdout",
     "output_type": "stream",
     "text": [
      "Batch 600, Loss: 2.215560\n"
     ]
    },
    {
     "name": "stderr",
     "output_type": "stream",
     "text": [
      "Training:  45%|███████████████████████████████▍                                      | 701/1563 [03:18<03:59,  3.59it/s]"
     ]
    },
    {
     "name": "stdout",
     "output_type": "stream",
     "text": [
      "Batch 700, Loss: 2.192108\n"
     ]
    },
    {
     "name": "stderr",
     "output_type": "stream",
     "text": [
      "Training:  51%|███████████████████████████████████▊                                  | 801/1563 [03:47<03:37,  3.51it/s]"
     ]
    },
    {
     "name": "stdout",
     "output_type": "stream",
     "text": [
      "Batch 800, Loss: 2.278304\n"
     ]
    },
    {
     "name": "stderr",
     "output_type": "stream",
     "text": [
      "Training:  58%|████████████████████████████████████████▎                             | 901/1563 [04:15<03:08,  3.51it/s]"
     ]
    },
    {
     "name": "stdout",
     "output_type": "stream",
     "text": [
      "Batch 900, Loss: 2.263530\n"
     ]
    },
    {
     "name": "stderr",
     "output_type": "stream",
     "text": [
      "Training:  64%|████████████████████████████████████████████▏                        | 1001/1563 [04:43<02:40,  3.51it/s]"
     ]
    },
    {
     "name": "stdout",
     "output_type": "stream",
     "text": [
      "Batch 1000, Loss: 2.119075\n"
     ]
    },
    {
     "name": "stderr",
     "output_type": "stream",
     "text": [
      "Training:  70%|████████████████████████████████████████████████▌                    | 1101/1563 [05:12<02:11,  3.51it/s]"
     ]
    },
    {
     "name": "stdout",
     "output_type": "stream",
     "text": [
      "Batch 1100, Loss: 2.137344\n"
     ]
    },
    {
     "name": "stderr",
     "output_type": "stream",
     "text": [
      "Training:  77%|█████████████████████████████████████████████████████                | 1201/1563 [05:40<01:42,  3.53it/s]"
     ]
    },
    {
     "name": "stdout",
     "output_type": "stream",
     "text": [
      "Batch 1200, Loss: 2.229920\n"
     ]
    },
    {
     "name": "stderr",
     "output_type": "stream",
     "text": [
      "Training:  83%|█████████████████████████████████████████████████████████▍           | 1301/1563 [06:08<01:13,  3.55it/s]"
     ]
    },
    {
     "name": "stdout",
     "output_type": "stream",
     "text": [
      "Batch 1300, Loss: 2.119269\n"
     ]
    },
    {
     "name": "stderr",
     "output_type": "stream",
     "text": [
      "Training:  90%|█████████████████████████████████████████████████████████████▊       | 1401/1563 [06:37<00:46,  3.52it/s]"
     ]
    },
    {
     "name": "stdout",
     "output_type": "stream",
     "text": [
      "Batch 1400, Loss: 2.217913\n"
     ]
    },
    {
     "name": "stderr",
     "output_type": "stream",
     "text": [
      "Training:  96%|██████████████████████████████████████████████████████████████████▎  | 1501/1563 [07:05<00:17,  3.59it/s]"
     ]
    },
    {
     "name": "stdout",
     "output_type": "stream",
     "text": [
      "Batch 1500, Loss: 2.195109\n"
     ]
    },
    {
     "name": "stderr",
     "output_type": "stream",
     "text": [
      "Training: 100%|█████████████████████████████████████████████████████████████████████| 1563/1563 [07:23<00:00,  3.53it/s]\n",
      "Validation: 100%|█████████████████████████████████████████████████████████████████████| 313/313 [00:26<00:00, 11.76it/s]\n"
     ]
    },
    {
     "name": "stdout",
     "output_type": "stream",
     "text": [
      "Train Loss: 2.1773, Train Acc: 19.96%\n",
      "Val Loss: 1.8951, Val Acc: 37.22%\n",
      "\n",
      "Epoch 10/30\n"
     ]
    },
    {
     "name": "stderr",
     "output_type": "stream",
     "text": [
      "Training:   0%|                                                                        | 1/1563 [00:00<13:09,  1.98it/s]"
     ]
    },
    {
     "name": "stdout",
     "output_type": "stream",
     "text": [
      "Batch 0, Loss: 2.096561\n"
     ]
    },
    {
     "name": "stderr",
     "output_type": "stream",
     "text": [
      "Training:   6%|████▌                                                                 | 101/1563 [00:28<06:54,  3.52it/s]"
     ]
    },
    {
     "name": "stdout",
     "output_type": "stream",
     "text": [
      "Batch 100, Loss: 2.235525\n"
     ]
    },
    {
     "name": "stderr",
     "output_type": "stream",
     "text": [
      "Training:  13%|█████████                                                             | 201/1563 [00:57<06:27,  3.51it/s]"
     ]
    },
    {
     "name": "stdout",
     "output_type": "stream",
     "text": [
      "Batch 200, Loss: 2.105760\n"
     ]
    },
    {
     "name": "stderr",
     "output_type": "stream",
     "text": [
      "Training:  19%|█████████████▍                                                        | 301/1563 [01:25<05:53,  3.57it/s]"
     ]
    },
    {
     "name": "stdout",
     "output_type": "stream",
     "text": [
      "Batch 300, Loss: 2.125273\n"
     ]
    },
    {
     "name": "stderr",
     "output_type": "stream",
     "text": [
      "Training:  26%|█████████████████▉                                                    | 401/1563 [01:54<05:36,  3.45it/s]"
     ]
    },
    {
     "name": "stdout",
     "output_type": "stream",
     "text": [
      "Batch 400, Loss: 2.212883\n"
     ]
    },
    {
     "name": "stderr",
     "output_type": "stream",
     "text": [
      "Training:  32%|██████████████████████▍                                               | 501/1563 [02:22<05:03,  3.50it/s]"
     ]
    },
    {
     "name": "stdout",
     "output_type": "stream",
     "text": [
      "Batch 500, Loss: 2.120324\n"
     ]
    },
    {
     "name": "stderr",
     "output_type": "stream",
     "text": [
      "Training:  38%|██████████████████████████▉                                           | 601/1563 [02:50<04:35,  3.49it/s]"
     ]
    },
    {
     "name": "stdout",
     "output_type": "stream",
     "text": [
      "Batch 600, Loss: 2.095806\n"
     ]
    },
    {
     "name": "stderr",
     "output_type": "stream",
     "text": [
      "Training:  45%|███████████████████████████████▍                                      | 701/1563 [03:18<04:03,  3.54it/s]"
     ]
    },
    {
     "name": "stdout",
     "output_type": "stream",
     "text": [
      "Batch 700, Loss: 2.189640\n"
     ]
    },
    {
     "name": "stderr",
     "output_type": "stream",
     "text": [
      "Training:  51%|███████████████████████████████████▊                                  | 801/1563 [03:47<03:37,  3.50it/s]"
     ]
    },
    {
     "name": "stdout",
     "output_type": "stream",
     "text": [
      "Batch 800, Loss: 2.128343\n"
     ]
    },
    {
     "name": "stderr",
     "output_type": "stream",
     "text": [
      "Training:  58%|████████████████████████████████████████▎                             | 901/1563 [04:15<03:06,  3.54it/s]"
     ]
    },
    {
     "name": "stdout",
     "output_type": "stream",
     "text": [
      "Batch 900, Loss: 2.171435\n"
     ]
    },
    {
     "name": "stderr",
     "output_type": "stream",
     "text": [
      "Training:  64%|████████████████████████████████████████████▏                        | 1001/1563 [04:43<02:41,  3.48it/s]"
     ]
    },
    {
     "name": "stdout",
     "output_type": "stream",
     "text": [
      "Batch 1000, Loss: 2.197222\n"
     ]
    },
    {
     "name": "stderr",
     "output_type": "stream",
     "text": [
      "Training:  70%|████████████████████████████████████████████████▌                    | 1101/1563 [05:12<02:07,  3.62it/s]"
     ]
    },
    {
     "name": "stdout",
     "output_type": "stream",
     "text": [
      "Batch 1100, Loss: 2.144023\n"
     ]
    },
    {
     "name": "stderr",
     "output_type": "stream",
     "text": [
      "Training:  77%|█████████████████████████████████████████████████████                | 1201/1563 [05:40<01:42,  3.52it/s]"
     ]
    },
    {
     "name": "stdout",
     "output_type": "stream",
     "text": [
      "Batch 1200, Loss: 2.333473\n"
     ]
    },
    {
     "name": "stderr",
     "output_type": "stream",
     "text": [
      "Training:  83%|█████████████████████████████████████████████████████████▍           | 1301/1563 [06:08<01:14,  3.51it/s]"
     ]
    },
    {
     "name": "stdout",
     "output_type": "stream",
     "text": [
      "Batch 1300, Loss: 2.196064\n"
     ]
    },
    {
     "name": "stderr",
     "output_type": "stream",
     "text": [
      "Training:  90%|█████████████████████████████████████████████████████████████▊       | 1401/1563 [06:36<00:45,  3.52it/s]"
     ]
    },
    {
     "name": "stdout",
     "output_type": "stream",
     "text": [
      "Batch 1400, Loss: 2.171188\n"
     ]
    },
    {
     "name": "stderr",
     "output_type": "stream",
     "text": [
      "Training:  96%|██████████████████████████████████████████████████████████████████▎  | 1501/1563 [07:05<00:17,  3.51it/s]"
     ]
    },
    {
     "name": "stdout",
     "output_type": "stream",
     "text": [
      "Batch 1500, Loss: 2.202278\n"
     ]
    },
    {
     "name": "stderr",
     "output_type": "stream",
     "text": [
      "Training: 100%|█████████████████████████████████████████████████████████████████████| 1563/1563 [07:22<00:00,  3.53it/s]\n",
      "Validation: 100%|█████████████████████████████████████████████████████████████████████| 313/313 [00:26<00:00, 11.80it/s]\n"
     ]
    },
    {
     "name": "stdout",
     "output_type": "stream",
     "text": [
      "Train Loss: 2.1825, Train Acc: 19.22%\n",
      "Val Loss: 1.9158, Val Acc: 35.96%\n",
      "\n",
      "Epoch 11/30\n"
     ]
    },
    {
     "name": "stderr",
     "output_type": "stream",
     "text": [
      "Training:   0%|                                                                        | 1/1563 [00:00<12:59,  2.00it/s]"
     ]
    },
    {
     "name": "stdout",
     "output_type": "stream",
     "text": [
      "Batch 0, Loss: 2.328601\n"
     ]
    },
    {
     "name": "stderr",
     "output_type": "stream",
     "text": [
      "Training:   6%|████▌                                                                 | 101/1563 [00:28<06:59,  3.49it/s]"
     ]
    },
    {
     "name": "stdout",
     "output_type": "stream",
     "text": [
      "Batch 100, Loss: 2.146080\n"
     ]
    },
    {
     "name": "stderr",
     "output_type": "stream",
     "text": [
      "Training:  13%|█████████                                                             | 201/1563 [00:57<06:27,  3.51it/s]"
     ]
    },
    {
     "name": "stdout",
     "output_type": "stream",
     "text": [
      "Batch 200, Loss: 2.263403\n"
     ]
    },
    {
     "name": "stderr",
     "output_type": "stream",
     "text": [
      "Training:  19%|█████████████▍                                                        | 301/1563 [01:25<06:01,  3.49it/s]"
     ]
    },
    {
     "name": "stdout",
     "output_type": "stream",
     "text": [
      "Batch 300, Loss: 2.095564\n"
     ]
    },
    {
     "name": "stderr",
     "output_type": "stream",
     "text": [
      "Training:  26%|█████████████████▉                                                    | 401/1563 [01:53<05:31,  3.51it/s]"
     ]
    },
    {
     "name": "stdout",
     "output_type": "stream",
     "text": [
      "Batch 400, Loss: 2.209829\n"
     ]
    },
    {
     "name": "stderr",
     "output_type": "stream",
     "text": [
      "Training:  32%|██████████████████████▍                                               | 501/1563 [02:22<05:01,  3.52it/s]"
     ]
    },
    {
     "name": "stdout",
     "output_type": "stream",
     "text": [
      "Batch 500, Loss: 2.246247\n"
     ]
    },
    {
     "name": "stderr",
     "output_type": "stream",
     "text": [
      "Training:  38%|██████████████████████████▉                                           | 601/1563 [02:50<04:32,  3.53it/s]"
     ]
    },
    {
     "name": "stdout",
     "output_type": "stream",
     "text": [
      "Batch 600, Loss: 2.151222\n"
     ]
    },
    {
     "name": "stderr",
     "output_type": "stream",
     "text": [
      "Training:  45%|███████████████████████████████▍                                      | 701/1563 [03:18<04:03,  3.54it/s]"
     ]
    },
    {
     "name": "stdout",
     "output_type": "stream",
     "text": [
      "Batch 700, Loss: 2.187951\n"
     ]
    },
    {
     "name": "stderr",
     "output_type": "stream",
     "text": [
      "Training:  51%|███████████████████████████████████▊                                  | 801/1563 [03:47<03:36,  3.52it/s]"
     ]
    },
    {
     "name": "stdout",
     "output_type": "stream",
     "text": [
      "Batch 800, Loss: 2.177580\n"
     ]
    },
    {
     "name": "stderr",
     "output_type": "stream",
     "text": [
      "Training:  58%|████████████████████████████████████████▎                             | 901/1563 [04:15<03:10,  3.48it/s]"
     ]
    },
    {
     "name": "stdout",
     "output_type": "stream",
     "text": [
      "Batch 900, Loss: 2.398126\n"
     ]
    },
    {
     "name": "stderr",
     "output_type": "stream",
     "text": [
      "Training:  64%|████████████████████████████████████████████▏                        | 1001/1563 [04:43<02:43,  3.43it/s]"
     ]
    },
    {
     "name": "stdout",
     "output_type": "stream",
     "text": [
      "Batch 1000, Loss: 2.142757\n"
     ]
    },
    {
     "name": "stderr",
     "output_type": "stream",
     "text": [
      "Training:  70%|████████████████████████████████████████████████▌                    | 1101/1563 [05:12<02:11,  3.52it/s]"
     ]
    },
    {
     "name": "stdout",
     "output_type": "stream",
     "text": [
      "Batch 1100, Loss: 2.089397\n"
     ]
    },
    {
     "name": "stderr",
     "output_type": "stream",
     "text": [
      "Training:  77%|█████████████████████████████████████████████████████                | 1201/1563 [05:40<01:42,  3.52it/s]"
     ]
    },
    {
     "name": "stdout",
     "output_type": "stream",
     "text": [
      "Batch 1200, Loss: 2.104516\n"
     ]
    },
    {
     "name": "stderr",
     "output_type": "stream",
     "text": [
      "Training:  83%|█████████████████████████████████████████████████████████▍           | 1301/1563 [06:08<01:13,  3.54it/s]"
     ]
    },
    {
     "name": "stdout",
     "output_type": "stream",
     "text": [
      "Batch 1300, Loss: 2.073182\n"
     ]
    },
    {
     "name": "stderr",
     "output_type": "stream",
     "text": [
      "Training:  90%|█████████████████████████████████████████████████████████████▊       | 1401/1563 [06:37<00:45,  3.55it/s]"
     ]
    },
    {
     "name": "stdout",
     "output_type": "stream",
     "text": [
      "Batch 1400, Loss: 2.150930\n"
     ]
    },
    {
     "name": "stderr",
     "output_type": "stream",
     "text": [
      "Training:  96%|██████████████████████████████████████████████████████████████████▎  | 1501/1563 [07:05<00:17,  3.59it/s]"
     ]
    },
    {
     "name": "stdout",
     "output_type": "stream",
     "text": [
      "Batch 1500, Loss: 2.255182\n"
     ]
    },
    {
     "name": "stderr",
     "output_type": "stream",
     "text": [
      "Training: 100%|█████████████████████████████████████████████████████████████████████| 1563/1563 [07:22<00:00,  3.53it/s]\n",
      "Validation: 100%|█████████████████████████████████████████████████████████████████████| 313/313 [00:26<00:00, 11.82it/s]\n"
     ]
    },
    {
     "name": "stdout",
     "output_type": "stream",
     "text": [
      "Train Loss: 2.1846, Train Acc: 18.78%\n",
      "Val Loss: 1.9411, Val Acc: 33.91%\n",
      "\n",
      "Epoch 12/30\n"
     ]
    },
    {
     "name": "stderr",
     "output_type": "stream",
     "text": [
      "Training:   0%|                                                                        | 1/1563 [00:00<13:01,  2.00it/s]"
     ]
    },
    {
     "name": "stdout",
     "output_type": "stream",
     "text": [
      "Batch 0, Loss: 2.180584\n"
     ]
    },
    {
     "name": "stderr",
     "output_type": "stream",
     "text": [
      "Training:   6%|████▌                                                                 | 101/1563 [00:28<06:53,  3.53it/s]"
     ]
    },
    {
     "name": "stdout",
     "output_type": "stream",
     "text": [
      "Batch 100, Loss: 2.237802\n"
     ]
    },
    {
     "name": "stderr",
     "output_type": "stream",
     "text": [
      "Training:  13%|█████████                                                             | 201/1563 [00:56<06:24,  3.55it/s]"
     ]
    },
    {
     "name": "stdout",
     "output_type": "stream",
     "text": [
      "Batch 200, Loss: 2.212359\n"
     ]
    },
    {
     "name": "stderr",
     "output_type": "stream",
     "text": [
      "Training:  19%|█████████████▍                                                        | 301/1563 [01:25<05:55,  3.55it/s]"
     ]
    },
    {
     "name": "stdout",
     "output_type": "stream",
     "text": [
      "Batch 300, Loss: 2.147573\n"
     ]
    },
    {
     "name": "stderr",
     "output_type": "stream",
     "text": [
      "Training:  26%|█████████████████▉                                                    | 401/1563 [01:53<05:23,  3.60it/s]"
     ]
    },
    {
     "name": "stdout",
     "output_type": "stream",
     "text": [
      "Batch 400, Loss: 2.234375\n"
     ]
    },
    {
     "name": "stderr",
     "output_type": "stream",
     "text": [
      "Training:  32%|██████████████████████▍                                               | 501/1563 [02:22<05:02,  3.51it/s]"
     ]
    },
    {
     "name": "stdout",
     "output_type": "stream",
     "text": [
      "Batch 500, Loss: 2.145078\n"
     ]
    },
    {
     "name": "stderr",
     "output_type": "stream",
     "text": [
      "Training:  38%|██████████████████████████▉                                           | 601/1563 [02:50<04:36,  3.48it/s]"
     ]
    },
    {
     "name": "stdout",
     "output_type": "stream",
     "text": [
      "Batch 600, Loss: 2.240692\n"
     ]
    },
    {
     "name": "stderr",
     "output_type": "stream",
     "text": [
      "Training:  45%|███████████████████████████████▍                                      | 701/1563 [03:18<04:10,  3.44it/s]"
     ]
    },
    {
     "name": "stdout",
     "output_type": "stream",
     "text": [
      "Batch 700, Loss: 2.099441\n"
     ]
    },
    {
     "name": "stderr",
     "output_type": "stream",
     "text": [
      "Training:  51%|███████████████████████████████████▊                                  | 801/1563 [03:47<03:36,  3.51it/s]"
     ]
    },
    {
     "name": "stdout",
     "output_type": "stream",
     "text": [
      "Batch 800, Loss: 2.245048\n"
     ]
    },
    {
     "name": "stderr",
     "output_type": "stream",
     "text": [
      "Training:  58%|████████████████████████████████████████▎                             | 901/1563 [04:15<03:08,  3.52it/s]"
     ]
    },
    {
     "name": "stdout",
     "output_type": "stream",
     "text": [
      "Batch 900, Loss: 2.152527\n"
     ]
    },
    {
     "name": "stderr",
     "output_type": "stream",
     "text": [
      "Training:  64%|████████████████████████████████████████████▏                        | 1001/1563 [04:43<02:39,  3.53it/s]"
     ]
    },
    {
     "name": "stdout",
     "output_type": "stream",
     "text": [
      "Batch 1000, Loss: 2.188608\n"
     ]
    },
    {
     "name": "stderr",
     "output_type": "stream",
     "text": [
      "Training:  70%|████████████████████████████████████████████████▌                    | 1101/1563 [05:11<02:08,  3.60it/s]"
     ]
    },
    {
     "name": "stdout",
     "output_type": "stream",
     "text": [
      "Batch 1100, Loss: 2.317625\n"
     ]
    },
    {
     "name": "stderr",
     "output_type": "stream",
     "text": [
      "Training:  77%|█████████████████████████████████████████████████████                | 1201/1563 [05:40<01:40,  3.62it/s]"
     ]
    },
    {
     "name": "stdout",
     "output_type": "stream",
     "text": [
      "Batch 1200, Loss: 2.099166\n"
     ]
    },
    {
     "name": "stderr",
     "output_type": "stream",
     "text": [
      "Training:  83%|█████████████████████████████████████████████████████████▍           | 1301/1563 [06:08<01:15,  3.49it/s]"
     ]
    },
    {
     "name": "stdout",
     "output_type": "stream",
     "text": [
      "Batch 1300, Loss: 2.270791\n"
     ]
    },
    {
     "name": "stderr",
     "output_type": "stream",
     "text": [
      "Training:  90%|█████████████████████████████████████████████████████████████▊       | 1401/1563 [06:36<00:45,  3.53it/s]"
     ]
    },
    {
     "name": "stdout",
     "output_type": "stream",
     "text": [
      "Batch 1400, Loss: 2.239974\n"
     ]
    },
    {
     "name": "stderr",
     "output_type": "stream",
     "text": [
      "Training:  96%|██████████████████████████████████████████████████████████████████▎  | 1501/1563 [07:04<00:17,  3.52it/s]"
     ]
    },
    {
     "name": "stdout",
     "output_type": "stream",
     "text": [
      "Batch 1500, Loss: 2.055601\n"
     ]
    },
    {
     "name": "stderr",
     "output_type": "stream",
     "text": [
      "Training:  96%|██████████████████████████████████████████████████████████████████▎  | 1502/1563 [07:05<00:17,  3.52it/s]"
     ]
    }
   ],
   "source": [
    "\n",
    "\n",
    "\n",
    "import math\n",
    "\n",
    "class FP8Quantizer:\n",
    "    \"\"\"\n",
    "    FP8 E4M3 and E5M2 format quantization implementation\n",
    "    Supports both FP8 formats for optimal performance\n",
    "    \"\"\"\n",
    "    def __init__(self, format_type='E4M3'):\n",
    "        self.format_type = format_type\n",
    "        \n",
    "        if format_type == 'E4M3':\n",
    "            # FP8 E4M3 quantization levels (256 values)\n",
    "            # Range: -448 to 448 with better precision for smaller values\n",
    "            self.max_val = 448.0\n",
    "            self.min_val = -448.0\n",
    "            # Create E4M3 quantization levels\n",
    "            self.fp8_values = self._create_e4m3_values()\n",
    "        else:  # E5M2\n",
    "            # FP8 E5M2 quantization levels (256 values)\n",
    "            # Range: -57344 to 57344 with wider dynamic range\n",
    "            self.max_val = 57344.0\n",
    "            self.min_val = -57344.0\n",
    "            # Create E5M2 quantization levels\n",
    "            self.fp8_values = self._create_e5m2_values()\n",
    "    \n",
    "    def _create_e4m3_values(self):\n",
    "        \"\"\"Create FP8 E4M3 quantization levels\"\"\"\n",
    "        values = []\n",
    "        \n",
    "        # Generate all possible E4M3 values\n",
    "        for i in range(256):\n",
    "            # Extract sign, exponent (4 bits), and mantissa (3 bits)\n",
    "            sign = (i >> 7) & 1\n",
    "            exp = (i >> 3) & 0xF\n",
    "            mant = i & 0x7\n",
    "            \n",
    "            if exp == 0:  # Subnormal numbers\n",
    "                if mant == 0:\n",
    "                    value = 0.0\n",
    "                else:\n",
    "                    value = (-1)**sign * (mant / 8.0) * (2**(-6))\n",
    "            elif exp == 15:  # Special values (NaN, Inf) - treat as max values\n",
    "                if mant == 0:\n",
    "                    value = (-1)**sign * 448.0\n",
    "                else:\n",
    "                    value = float('nan') if sign == 0 else -float('nan')\n",
    "            else:  # Normal numbers\n",
    "                value = (-1)**sign * (1 + mant/8.0) * (2**(exp-7))\n",
    "            \n",
    "            # Filter out NaN values and clamp to valid range\n",
    "            if not math.isnan(value) and not math.isinf(value):\n",
    "                values.append(value)\n",
    "        \n",
    "        # Remove duplicates and sort\n",
    "        values = sorted(list(set(values)))\n",
    "        return torch.tensor(values, dtype=torch.float32)\n",
    "    \n",
    "    def _create_e5m2_values(self):\n",
    "        \"\"\"Create FP8 E5M2 quantization levels\"\"\"\n",
    "        values = []\n",
    "        \n",
    "        # Generate all possible E5M2 values\n",
    "        for i in range(256):\n",
    "            # Extract sign, exponent (5 bits), and mantissa (2 bits)\n",
    "            sign = (i >> 7) & 1\n",
    "            exp = (i >> 2) & 0x1F\n",
    "            mant = i & 0x3\n",
    "            \n",
    "            if exp == 0:  # Subnormal numbers\n",
    "                if mant == 0:\n",
    "                    value = 0.0\n",
    "                else:\n",
    "                    value = (-1)**sign * (mant / 4.0) * (2**(-14))\n",
    "            elif exp == 31:  # Special values (NaN, Inf) - treat as max values\n",
    "                if mant == 0:\n",
    "                    value = (-1)**sign * 57344.0\n",
    "                else:\n",
    "                    value = float('nan') if sign == 0 else -float('nan')\n",
    "            else:  # Normal numbers\n",
    "                value = (-1)**sign * (1 + mant/4.0) * (2**(exp-15))\n",
    "            \n",
    "            # Filter out NaN values and clamp to valid range\n",
    "            if not math.isnan(value) and not math.isinf(value):\n",
    "                values.append(value)\n",
    "        \n",
    "        # Remove duplicates and sort\n",
    "        values = sorted(list(set(values)))\n",
    "        return torch.tensor(values, dtype=torch.float32)\n",
    "    \n",
    "    def quantize(self, x, scale_factor=None):\n",
    "        \"\"\"\n",
    "        Quantize tensor to FP8 format using absmax scaling\n",
    "        \"\"\"\n",
    "        if scale_factor is None:\n",
    "            # Calculate absmax scale factor\n",
    "            max_val = torch.max(torch.abs(x))\n",
    "            scale_factor = self.max_val / (max_val + 1e-8)  # Avoid division by zero\n",
    "        \n",
    "        # Scale input\n",
    "        x_scaled = x * scale_factor\n",
    "        \n",
    "        # Clamp to FP8 range\n",
    "        x_clamped = torch.clamp(x_scaled, self.min_val, self.max_val)\n",
    "        \n",
    "        # Quantize using lookup table\n",
    "        quantized = self._quantize_lookup(x_clamped)\n",
    "        \n",
    "        return quantized / scale_factor, scale_factor\n",
    "    \n",
    "    def _quantize_lookup(self, x):\n",
    "        \"\"\"\n",
    "        Quantize using lookup table for FP8 values\n",
    "        \"\"\"\n",
    "        # Ensure fp8_values are on the same device as x\n",
    "        fp8_values = self.fp8_values.to(x.device)\n",
    "        \n",
    "        # Vectorized quantization using broadcasting\n",
    "        x_expanded = x.unsqueeze(-1)  # [..., 1]\n",
    "        fp8_expanded = fp8_values.unsqueeze(0).expand(*x.shape, -1)  # [..., 256]\n",
    "        \n",
    "        # Find closest FP8 value\n",
    "        diff = torch.abs(x_expanded - fp8_expanded)\n",
    "        closest_indices = torch.argmin(diff, dim=-1)\n",
    "        \n",
    "        return fp8_values[closest_indices]\n",
    "\n",
    "class OutlierClampingCompensation:\n",
    "    \"\"\"\n",
    "    Outlier Clamping and Compensation for activations\n",
    "    Enhanced for FP8 quantization with better outlier handling\n",
    "    \"\"\"\n",
    "    def __init__(self, quantile=0.995):  # Higher quantile for FP8\n",
    "        self.quantile = quantile\n",
    "    \n",
    "    def apply(self, x):\n",
    "        \"\"\"\n",
    "        Apply outlier clamping and return clamped tensor and compensation matrix\n",
    "        \"\"\"\n",
    "        # Calculate quantile thresholds\n",
    "        threshold = torch.quantile(torch.abs(x), self.quantile)\n",
    "        \n",
    "        # Clamp outliers\n",
    "        x_clamped = torch.clamp(x, -threshold, threshold)\n",
    "        \n",
    "        # Calculate compensation matrix (sparse)\n",
    "        compensation = x - x_clamped\n",
    "        \n",
    "        return x_clamped, compensation\n",
    "\n",
    "class QuantizedConv2dFP8(nn.Module):\n",
    "    \"\"\"\n",
    "    Custom quantized convolution with FP8 support\n",
    "    \"\"\"\n",
    "    def __init__(self, in_channels, out_channels, kernel_size, stride=1, padding=0, format_type='E4M3'):\n",
    "        super().__init__()\n",
    "        self.conv = nn.Conv2d(in_channels, out_channels, kernel_size, stride, padding)\n",
    "        self.weight_quantizer = FP8Quantizer(format_type)\n",
    "        self.activation_quantizer = FP8Quantizer(format_type)\n",
    "        self.outlier_handler = OutlierClampingCompensation()\n",
    "        \n",
    "    def forward(self, x):\n",
    "        # Quantize weights\n",
    "        weight_q, weight_scale = self.weight_quantizer.quantize(self.conv.weight)\n",
    "        \n",
    "        # Handle activation outliers\n",
    "        x_clamped, compensation = self.outlier_handler.apply(x)\n",
    "        \n",
    "        # Quantize activations\n",
    "        x_q, act_scale = self.activation_quantizer.quantize(x_clamped)\n",
    "        \n",
    "        # Perform convolution with quantized weights and activations\n",
    "        output = F.conv2d(x_q, weight_q, self.conv.bias, \n",
    "                         self.conv.stride, self.conv.padding)\n",
    "        \n",
    "        # Add compensation for outliers (sparse matrix multiplication)\n",
    "        if torch.sum(torch.abs(compensation)) > 0:\n",
    "            comp_output = F.conv2d(compensation, self.conv.weight, None,\n",
    "                                 self.conv.stride, self.conv.padding)\n",
    "            output += comp_output\n",
    "        \n",
    "        return output\n",
    "\n",
    "class QuantizedLinearFP8(nn.Module):\n",
    "    \"\"\"\n",
    "    Custom quantized linear layer with FP8 support\n",
    "    \"\"\"\n",
    "    def __init__(self, in_features, out_features, format_type='E4M3'):\n",
    "        super().__init__()\n",
    "        self.linear = nn.Linear(in_features, out_features)\n",
    "        self.weight_quantizer = FP8Quantizer(format_type)\n",
    "        self.activation_quantizer = FP8Quantizer(format_type)\n",
    "        self.outlier_handler = OutlierClampingCompensation()\n",
    "        \n",
    "    def forward(self, x):\n",
    "        # Quantize weights\n",
    "        weight_q, weight_scale = self.weight_quantizer.quantize(self.linear.weight)\n",
    "        \n",
    "        # Handle activation outliers\n",
    "        x_clamped, compensation = self.outlier_handler.apply(x)\n",
    "        \n",
    "        # Quantize activations\n",
    "        x_q, act_scale = self.activation_quantizer.quantize(x_clamped)\n",
    "        \n",
    "        # Perform linear operation with quantized weights and activations\n",
    "        output = F.linear(x_q, weight_q, self.linear.bias)\n",
    "        \n",
    "        # Add compensation for outliers\n",
    "        if torch.sum(torch.abs(compensation)) > 0:\n",
    "            comp_output = F.linear(compensation, self.linear.weight, None)\n",
    "            output += comp_output\n",
    "        \n",
    "        return output\n",
    "\n",
    "class QuantizedEfficientNetFP8(nn.Module):\n",
    "    \"\"\"\n",
    "    EfficientNet with FP8 quantization\n",
    "    \"\"\"\n",
    "    def __init__(self, model_name='efficientnet-b0', num_classes=10, format_type='E4M3'):\n",
    "        super().__init__()\n",
    "        # Load pre-trained EfficientNet\n",
    "        self.backbone = EfficientNet.from_pretrained(model_name, num_classes=num_classes)\n",
    "        self.format_type = format_type\n",
    "        \n",
    "        # Replace key layers with quantized versions\n",
    "        self._replace_layers()\n",
    "        \n",
    "    def _replace_layers(self):\n",
    "        \"\"\"\n",
    "        Replace standard layers with FP8 quantized versions\n",
    "        \"\"\"\n",
    "        replaced_count = 0\n",
    "        \n",
    "        # Replace convolutional layers\n",
    "        for name, module in self.backbone.named_modules():\n",
    "            if isinstance(module, nn.Conv2d) and 'features' in name:\n",
    "                # Replace with quantized conv\n",
    "                new_conv = QuantizedConv2dFP8(\n",
    "                    module.in_channels, \n",
    "                    module.out_channels, \n",
    "                    module.kernel_size, \n",
    "                    module.stride, \n",
    "                    module.padding,\n",
    "                    self.format_type\n",
    "                )\n",
    "                # Copy weights\n",
    "                new_conv.conv.weight.data = module.weight.data.clone()\n",
    "                if module.bias is not None:\n",
    "                    new_conv.conv.bias.data = module.bias.data.clone()\n",
    "                \n",
    "                # Replace in model\n",
    "                parent_name = '.'.join(name.split('.')[:-1])\n",
    "                child_name = name.split('.')[-1]\n",
    "                parent = self.backbone\n",
    "                for part in parent_name.split('.'):\n",
    "                    if part:\n",
    "                        parent = getattr(parent, part)\n",
    "                setattr(parent, child_name, new_conv)\n",
    "                replaced_count += 1\n",
    "                \n",
    "        # Replace classifier (linear layer)\n",
    "        if hasattr(self.backbone, '_fc'):\n",
    "            original_fc = self.backbone._fc\n",
    "            new_fc = QuantizedLinearFP8(\n",
    "                original_fc.in_features,\n",
    "                original_fc.out_features,\n",
    "                self.format_type\n",
    "            )\n",
    "            new_fc.linear.weight.data = original_fc.weight.data.clone()\n",
    "            if original_fc.bias is not None:\n",
    "                new_fc.linear.bias.data = original_fc.bias.data.clone()\n",
    "            self.backbone._fc = new_fc\n",
    "            replaced_count += 1\n",
    "            \n",
    "        print(f\"Replaced {replaced_count} layers with FP8 quantized versions\")\n",
    "    \n",
    "    def forward(self, x):\n",
    "        return self.backbone(x)\n",
    "\n",
    "class FP8QATTrainer:\n",
    "    \"\"\"\n",
    "    Quantization-Aware Training trainer for FP8 EfficientNet\n",
    "    \"\"\"\n",
    "    def __init__(self, model, train_loader, val_loader, device):\n",
    "        self.model = model.to(device)\n",
    "        self.train_loader = train_loader\n",
    "        self.val_loader = val_loader\n",
    "        self.device = device\n",
    "        \n",
    "        # Setup optimizer with lower learning rate for QAT\n",
    "        self.optimizer = optim.AdamW(self.model.parameters(), lr=5e-6, weight_decay=1e-4)  # Even lower LR for FP8\n",
    "        self.scheduler = optim.lr_scheduler.CosineAnnealingLR(self.optimizer, T_max=100)\n",
    "        self.criterion = nn.CrossEntropyLoss()\n",
    "        \n",
    "    def train_epoch(self):\n",
    "        \"\"\"\n",
    "        Train for one epoch\n",
    "        \"\"\"\n",
    "        self.model.train()\n",
    "        total_loss = 0\n",
    "        correct = 0\n",
    "        total = 0\n",
    "        \n",
    "        for batch_idx, (data, target) in enumerate(tqdm(self.train_loader, desc=\"Training\")):\n",
    "            data, target = data.to(self.device), target.to(self.device)\n",
    "            \n",
    "            self.optimizer.zero_grad()\n",
    "            output = self.model(data)\n",
    "            loss = self.criterion(output, target)\n",
    "            loss.backward()\n",
    "            \n",
    "            # Gradient clipping for stability (more conservative for FP8)\n",
    "            torch.nn.utils.clip_grad_norm_(self.model.parameters(), max_norm=0.5)\n",
    "            \n",
    "            self.optimizer.step()\n",
    "            \n",
    "            total_loss += loss.item()\n",
    "            pred = output.argmax(dim=1, keepdim=True)\n",
    "            correct += pred.eq(target.view_as(pred)).sum().item()\n",
    "            total += target.size(0)\n",
    "            \n",
    "            if batch_idx % 100 == 0:\n",
    "                print(f'Batch {batch_idx}, Loss: {loss.item():.6f}')\n",
    "        \n",
    "        return total_loss / len(self.train_loader), 100. * correct / total\n",
    "    \n",
    "    def validate(self):\n",
    "        \"\"\"\n",
    "        Validate the model\n",
    "        \"\"\"\n",
    "        self.model.eval()\n",
    "        val_loss = 0\n",
    "        correct = 0\n",
    "        total = 0\n",
    "        \n",
    "        with torch.no_grad():\n",
    "            for data, target in tqdm(self.val_loader, desc=\"Validation\"):\n",
    "                data, target = data.to(self.device), target.to(self.device)\n",
    "                output = self.model(data)\n",
    "                val_loss += self.criterion(output, target).item()\n",
    "                pred = output.argmax(dim=1, keepdim=True)\n",
    "                correct += pred.eq(target.view_as(pred)).sum().item()\n",
    "                total += target.size(0)\n",
    "        \n",
    "        return val_loss / len(self.val_loader), 100. * correct / total\n",
    "    \n",
    "    def train(self, epochs=30):  # Fewer epochs for FP8 as it converges faster\n",
    "        \"\"\"\n",
    "        Full training loop\n",
    "        \"\"\"\n",
    "        train_losses, train_accs = [], []\n",
    "        val_losses, val_accs = [], []\n",
    "        \n",
    "        for epoch in range(epochs):\n",
    "            print(f'\\nEpoch {epoch+1}/{epochs}')\n",
    "            \n",
    "            # Training\n",
    "            train_loss, train_acc = self.train_epoch()\n",
    "            \n",
    "            # Validation\n",
    "            val_loss, val_acc = self.validate()\n",
    "            \n",
    "            # Update scheduler\n",
    "            self.scheduler.step()\n",
    "            \n",
    "            # Store metrics\n",
    "            train_losses.append(train_loss)\n",
    "            train_accs.append(train_acc)\n",
    "            val_losses.append(val_loss)\n",
    "            val_accs.append(val_acc)\n",
    "            \n",
    "            print(f'Train Loss: {train_loss:.4f}, Train Acc: {train_acc:.2f}%')\n",
    "            print(f'Val Loss: {val_loss:.4f}, Val Acc: {val_acc:.2f}%')\n",
    "            \n",
    "            # Save best model\n",
    "            if epoch == 0 or val_acc > max(val_accs[:-1]):\n",
    "                torch.save(self.model.state_dict(), 'best_fp8_efficientnet.pth')\n",
    "                print('Best model saved!')\n",
    "        \n",
    "        return {\n",
    "            'train_losses': train_losses,\n",
    "            'train_accs': train_accs,\n",
    "            'val_losses': val_losses,\n",
    "            'val_accs': val_accs\n",
    "        }\n",
    "\n",
    "def prepare_data(batch_size=32):\n",
    "    \"\"\"\n",
    "    Prepare CIFAR-10 dataset for training\n",
    "    \"\"\"\n",
    "    # Data augmentation for training (enhanced for better FP8 training)\n",
    "    train_transform = transforms.Compose([\n",
    "        transforms.Resize(224),\n",
    "        transforms.RandomHorizontalFlip(),\n",
    "        transforms.RandomRotation(15),  # Slightly more rotation\n",
    "        transforms.ColorJitter(brightness=0.3, contrast=0.3, saturation=0.3, hue=0.1),\n",
    "        transforms.RandomAffine(degrees=0, translate=(0.1, 0.1)),  # Translation augmentation\n",
    "        transforms.ToTensor(),\n",
    "        transforms.Normalize(mean=[0.485, 0.456, 0.406], std=[0.229, 0.224, 0.225])\n",
    "    ])\n",
    "    \n",
    "    # Validation transform\n",
    "    val_transform = transforms.Compose([\n",
    "        transforms.Resize(224),\n",
    "        transforms.ToTensor(),\n",
    "        transforms.Normalize(mean=[0.485, 0.456, 0.406], std=[0.229, 0.224, 0.225])\n",
    "    ])\n",
    "    \n",
    "    # Load datasets\n",
    "    from torchvision.datasets import CIFAR10\n",
    "    \n",
    "    train_dataset = CIFAR10(root='./data', train=True, download=True, transform=train_transform)\n",
    "    val_dataset = CIFAR10(root='./data', train=False, download=True, transform=val_transform)\n",
    "    \n",
    "    train_loader = torch.utils.data.DataLoader(train_dataset, batch_size=batch_size, \n",
    "                                             shuffle=True, num_workers=4)\n",
    "    val_loader = torch.utils.data.DataLoader(val_dataset, batch_size=batch_size, \n",
    "                                           shuffle=False, num_workers=4)\n",
    "    \n",
    "    return train_loader, val_loader\n",
    "\n",
    "def main_fp8(format_type='E4M3'):\n",
    "    \"\"\"\n",
    "    Main training pipeline for FP8 EfficientNet\n",
    "    \"\"\"\n",
    "    print(f\"Starting FP8 EfficientNet Quantization-Aware Training ({format_type} format)\")\n",
    "    \n",
    "    # Prepare data\n",
    "    print(\"Preparing data...\")\n",
    "    train_loader, val_loader = prepare_data(batch_size=32)\n",
    "    \n",
    "    # Create quantized model\n",
    "    print(f\"Creating FP8 quantized EfficientNet model ({format_type})...\")\n",
    "    model = QuantizedEfficientNetFP8(model_name='efficientnet-b0', num_classes=10, format_type=format_type)\n",
    "    \n",
    "    # Setup trainer\n",
    "    trainer = FP8QATTrainer(model, train_loader, val_loader, device)\n",
    "    \n",
    "    # Train the model\n",
    "    print(\"Starting training...\")\n",
    "    history = trainer.train(epochs=30)\n",
    "    \n",
    "    # Plot results\n",
    "    plot_training_history(history, format_type)\n",
    "    \n",
    "    print(f\"FP8 {format_type} training completed!\")\n",
    "    return model, history\n",
    "\n",
    "def plot_training_history(history, format_type='FP8'):\n",
    "    \"\"\"\n",
    "    Plot training history\n",
    "    \"\"\"\n",
    "    fig, (ax1, ax2) = plt.subplots(1, 2, figsize=(15, 5))\n",
    "    \n",
    "    # Plot loss\n",
    "    ax1.plot(history['train_losses'], label='Train Loss')\n",
    "    ax1.plot(history['val_losses'], label='Val Loss')\n",
    "    ax1.set_title(f'{format_type} Training and Validation Loss')\n",
    "    ax1.set_xlabel('Epoch')\n",
    "    ax1.set_ylabel('Loss')\n",
    "    ax1.legend()\n",
    "    ax1.grid(True)\n",
    "    \n",
    "    # Plot accuracy\n",
    "    ax2.plot(history['train_accs'], label='Train Accuracy')\n",
    "    ax2.plot(history['val_accs'], label='Val Accuracy')\n",
    "    ax2.set_title(f'{format_type} Training and Validation Accuracy')\n",
    "    ax2.set_xlabel('Epoch')\n",
    "    ax2.set_ylabel('Accuracy (%)')\n",
    "    ax2.legend()\n",
    "    ax2.grid(True)\n",
    "    \n",
    "    plt.tight_layout()\n",
    "    plt.show()\n",
    "\n",
    "def evaluate_model_performance(model, test_loader, format_type='FP8'):\n",
    "    \"\"\"\n",
    "    Comprehensive model evaluation\n",
    "    \"\"\"\n",
    "    model.eval()\n",
    "    correct = 0\n",
    "    total = 0\n",
    "    class_correct = [0] * 10\n",
    "    class_total = [0] * 10\n",
    "    \n",
    "    # CIFAR-10 class names\n",
    "    classes = ['airplane', 'automobile', 'bird', 'cat', 'deer', \n",
    "               'dog', 'frog', 'horse', 'ship', 'truck']\n",
    "    \n",
    "    with torch.no_grad():\n",
    "        for data, target in tqdm(test_loader, desc=f\"Evaluating {format_type}\"):\n",
    "            data, target = data.to(device), target.to(device)\n",
    "            outputs = model(data)\n",
    "            _, predicted = torch.max(outputs, 1)\n",
    "            total += target.size(0)\n",
    "            correct += (predicted == target).sum().item()\n",
    "            \n",
    "            # Per-class accuracy\n",
    "            c = (predicted == target).squeeze()\n",
    "            for i in range(target.size(0)):\n",
    "                label = target[i]\n",
    "                class_correct[label] += c[i].item()\n",
    "                class_total[label] += 1\n",
    "    \n",
    "    # Print results\n",
    "    print(f'\\n{format_type} Overall Accuracy: {100 * correct / total:.2f}%')\n",
    "    print(f'\\n{format_type} Per-class Accuracy:')\n",
    "    for i in range(10):\n",
    "        if class_total[i] > 0:\n",
    "            print(f'{classes[i]}: {100 * class_correct[i] / class_total[i]:.2f}%')\n",
    "\n",
    "def compare_model_sizes_fp8():\n",
    "    \"\"\"\n",
    "    Compare model sizes between FP32 and FP8\n",
    "    \"\"\"\n",
    "    # Original EfficientNet\n",
    "    original_model = EfficientNet.from_pretrained('efficientnet-b0', num_classes=10)\n",
    "    \n",
    "    # Calculate theoretical size reduction\n",
    "    # FP8 uses 8 bits vs FP32's 32 bits = 4x reduction\n",
    "    original_params = sum(p.numel() for p in original_model.parameters())\n",
    "    original_size_mb = original_params * 4 / (1024 * 1024)  # FP32 = 4 bytes per param\n",
    "    fp8_size_mb = original_params * 1 / (1024 * 1024)      # FP8 = 1 byte per param\n",
    "    \n",
    "    print(f\"\\nModel Size Comparison:\")\n",
    "    print(f\"Original (FP32): {original_size_mb:.2f} MB\")\n",
    "    print(f\"FP8 Quantized: {fp8_size_mb:.2f} MB\")\n",
    "    print(f\"Size Reduction: {original_size_mb / fp8_size_mb:.1f}x\")\n",
    "\n",
    "def compare_fp8_formats():\n",
    "    \"\"\"\n",
    "    Compare both FP8 formats (E4M3 vs E5M2)\n",
    "    \"\"\"\n",
    "    print(\"Comparing FP8 E4M3 vs E5M2 formats...\")\n",
    "    \n",
    "    # Prepare data once\n",
    "    train_loader, val_loader = prepare_data(batch_size=32)\n",
    "    \n",
    "    results = {}\n",
    "    \n",
    "    for format_type in ['E4M3', 'E5M2']:\n",
    "        print(f\"\\n{'='*50}\")\n",
    "        print(f\"Training with FP8 {format_type} format\")\n",
    "        print(f\"{'='*50}\")\n",
    "        \n",
    "        # Train model with current format\n",
    "        model, history = main_fp8(format_type)\n",
    "        \n",
    "        # Evaluate model\n",
    "        evaluate_model_performance(model, val_loader, f'FP8-{format_type}')\n",
    "        \n",
    "        # Store results\n",
    "        results[format_type] = {\n",
    "            'model': model,\n",
    "            'history': history,\n",
    "            'final_acc': history['val_accs'][-1]\n",
    "        }\n",
    "    \n",
    "    # Compare results\n",
    "    print(f\"\\n{'='*50}\")\n",
    "    print(\"FP8 Format Comparison Summary\")\n",
    "    print(f\"{'='*50}\")\n",
    "    for format_type, result in results.items():\n",
    "        print(f\"FP8-{format_type} Final Validation Accuracy: {result['final_acc']:.2f}%\")\n",
    "    \n",
    "    return results\n",
    "\n",
    "def export_to_onnx_fp8(model, format_type='E4M3', export_path=None):\n",
    "    \"\"\"\n",
    "    Export FP8 model to ONNX format for deployment\n",
    "    \"\"\"\n",
    "    if export_path is None:\n",
    "        export_path = f'fp8_{format_type.lower()}_efficientnet.onnx'\n",
    "    \n",
    "    model.eval()\n",
    "    dummy_input = torch.randn(1, 3, 224, 224).to(device)\n",
    "    \n",
    "    torch.onnx.export(\n",
    "        model,\n",
    "        dummy_input,\n",
    "        export_path,\n",
    "        input_names=['input'],\n",
    "        output_names=['output'],\n",
    "        dynamic_axes={'input': {0: 'batch_size'}, 'output': {0: 'batch_size'}},\n",
    "        opset_version=13  # Higher opset for better FP8 support\n",
    "    )\n",
    "    print(f\"FP8 {format_type} model exported to {export_path}\")\n",
    "\n",
    "# Run the complete FP8 pipeline\n",
    "if __name__ == \"__main__\":\n",
    "    # Option 1: Train with single format\n",
    "    print(\"Choose training option:\")\n",
    "    print(\"1. Train FP8 E4M3 only\")\n",
    "    print(\"2. Train FP8 E5M2 only\") \n",
    "    print(\"3. Compare both FP8 formats\")\n",
    "    \n",
    "    choice = input(\"Enter choice (1-3): \").strip()\n",
    "    \n",
    "    if choice == '1':\n",
    "        model, history = main_fp8('E4M3')\n",
    "        train_loader, val_loader = prepare_data(batch_size=32)\n",
    "        evaluate_model_performance(model, val_loader, 'FP8-E4M3')\n",
    "        compare_model_sizes_fp8()\n",
    "        export_to_onnx_fp8(model, 'E4M3')\n",
    "        \n",
    "    elif choice == '2':\n",
    "        model, history = main_fp8('E5M2')\n",
    "        train_loader, val_loader = prepare_data(batch_size=32)\n",
    "        evaluate_model_performance(model, val_loader, 'FP8-E5M2')\n",
    "        compare_model_sizes_fp8()\n",
    "        export_to_onnx_fp8(model, 'E5M2')\n",
    "        \n",
    "    elif choice == '3':\n",
    "        results = compare_fp8_formats()\n",
    "        compare_model_sizes_fp8()\n",
    "        \n",
    "        # Export both models\n",
    "        for format_type, result in results.items():\n",
    "            export_to_onnx_fp8(result['model'], format_type)\n",
    "    \n",
    "    else:\n",
    "        print(\"Invalid choice. Running default FP8 E4M3 training...\")\n",
    "        model, history = main_fp8('E4M3')\n",
    "        train_loader, val_loader = prepare_data(batch_size=32)\n",
    "        evaluate_model_performance(model, val_loader, 'FP8-E4M3')\n",
    "        compare_model_sizes_fp8()\n",
    "        export_to_onnx_fp8(model, 'E4M3')\n",
    "\n",
    "# Additional analysis functions\n",
    "def analyze_quantization_error(model, test_loader):\n",
    "    \"\"\"\n",
    "    Analyze quantization error patterns\n",
    "    \"\"\"\n",
    "    model.eval()\n",
    "    quantization_errors = []\n",
    "    \n",
    "    with torch.no_grad():\n",
    "        for data, _ in test_loader:\n",
    "            data = data.to(device)\n",
    "            \n",
    "            # Get activations from quantized layers\n",
    "            for name, module in model.named_modules():\n",
    "                if isinstance(module, (QuantizedConv2dFP8, QuantizedLinearFP8)):\n",
    "                    # This would require hooks to capture intermediate activations\n",
    "                    # Implementation depends on specific analysis needs\n",
    "                    pass\n",
    "            break  # Analyze only first batch for demonstration\n",
    "    \n",
    "    print(\"Quantization error analysis completed\")\n",
    "\n",
    "def benchmark_inference_speed_fp8(model, test_loader, format_type):\n",
    "    \"\"\"\n",
    "    Benchmark FP8 model inference speed\n",
    "    \"\"\"\n",
    "    model.eval()\n",
    "    \n",
    "    # Warmup\n",
    "    with torch.no_grad():\n",
    "        for i, (data, _) in enumerate(test_loader):\n",
    "            if i >= 3:\n",
    "                break\n",
    "            data = data.to(device)\n",
    "            _ = model(data)\n",
    "    \n",
    "    # Benchmark\n",
    "    import time\n",
    "    \n",
    "    torch.cuda.synchronize() if device.type == 'cuda' else None\n",
    "    start_time = time.time()\n",
    "    \n",
    "    num_batches = 10\n",
    "    with torch.no_grad():\n",
    "        for i, (data, _) in enumerate(test_loader):\n",
    "            if i >= num_batches:\n",
    "                break\n",
    "            data = data.to(device)\n",
    "            _ = model(data)\n",
    "    \n",
    "    torch.cuda.synchronize() if device.type == 'cuda' else None\n",
    "    end_time = time.time()\n",
    "    \n",
    "    elapsed_time = end_time - start_time\n",
    "    throughput = (num_batches * test_loader.batch_size) / elapsed_time\n",
    "    \n",
    "    print(f\"FP8 {format_type} Inference Throughput: {throughput:.2f} images/sec\")\n",
    "    return throughput\n"
   ]
  },
  {
   "cell_type": "code",
   "execution_count": 1,
   "id": "1440b1f7-e85a-4e26-9c39-3a8f15ef125a",
   "metadata": {},
   "outputs": [
    {
     "data": {
      "image/png": "[encoded data removed]",
      "text/plain": [
       "<Figure size 1000x500 with 1 Axes>"
      ]
     },
     "metadata": {},
     "output_type": "display_data"
    }
   ],
   "source": [
    "import matplotlib.pyplot as plt\n",
    "import numpy as np\n",
    "\n",
    "# Data\n",
    "models = [\n",
    "    \"VGG-16 CIFAR-10\",\n",
    "    \"ResNet-18 CIFAR-10\",\n",
    "    \"Custom CIFAR-10\",\n",
    "    \"ResNet-18 CIFAR-100\",\n",
    "    \"MobileNetV1 CIFAR-100\",\n",
    "    \"MobileNetV2 CIFAR-100\",\n",
    "    \"ResNet-18 ImageNet\",\n",
    "    \"VIT-B ImageNet\",\n",
    "    \"BERT SST-2\"\n",
    "]\n",
    "\n",
    "fp32 = [91, 91, 94, 75, 64, 73, 64, 83, 90]\n",
    "fxp4 = [90, 90, 74, 73, 63, 72, 63, 78, 77]\n",
    "posit4 = [91.5, 90.5, 82, 74, 63, 73, 63, 81, 82]\n",
    "\n",
    "x = np.arange(len(models))\n",
    "width = 0.25\n",
    "\n",
    "fig, ax = plt.subplots(figsize=(10, 5))\n",
    "ax.bar(x - width, fp32, width, label='FP32', color='orange')\n",
    "ax.bar(x, fxp4, width, label='FxP4', color='dodgerblue')\n",
    "ax.bar(x + width, posit4, width, label='Posit-4', color='green')\n",
    "\n",
    "ax.set_ylabel('Performance (%)')\n",
    "ax.set_title('Model Performance Comparison')\n",
    "ax.set_xticks(x)\n",
    "ax.set_xticklabels(models, rotation=30, ha='right')\n",
    "ax.set_ylim(0, 100)\n",
    "ax.legend()\n",
    "\n",
    "plt.tight_layout()\n",
    "plt.show()\n"
   ]
  },
  {
   "cell_type": "code",
   "execution_count": null,
   "id": "d9c2efbb-8ff8-41b2-8048-008dfc6abd38",
   "metadata": {},
   "outputs": [],
   "source": []
  }
 ],
 "metadata": {
  "kernelspec": {
   "display_name": "Python 3 (ipykernel)",
   "language": "python",
   "name": "python3"
  },
  "language_info": {
   "codemirror_mode": {
    "name": "ipython",
    "version": 3
   },
   "file_extension": ".py",
   "mimetype": "text/x-python",
   "name": "python",
   "nbconvert_exporter": "python",
   "pygments_lexer": "ipython3",
   "version": "3.9.23"
  }
 },
 "nbformat": 4,
 "nbformat_minor": 5
}
